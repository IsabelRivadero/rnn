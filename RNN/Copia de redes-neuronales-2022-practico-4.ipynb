{
 "cells": [
  {
   "cell_type": "markdown",
   "metadata": {
    "id": "NRYEofSD0xoF"
   },
   "source": [
    "# Integración numérica de ODEs\n",
    "\n",
    "En este práctico introduciremos los métodos de **Euler** y de **RK4** (Runge-Kutta de orden 4) de integración numérica de Ecuaciones Diferenciales Ordinarias (ODEs).\n",
    "\n",
    "## **Ejercicio 1)** Importando librerías\n",
    "\n",
    "Importe las librerías `numpy` para operar con arrays, `scipy` para utilizar rutinas de algebra lineal y `matplotlib.pyplot` para graficar."
   ]
  },
  {
   "cell_type": "code",
   "execution_count": 1,
   "metadata": {
    "executionInfo": {
     "elapsed": 37,
     "status": "ok",
     "timestamp": 1664291711841,
     "user": {
      "displayName": "ROBERTO RENZO JOEL D´PAULA",
      "userId": "10373003643603364177"
     },
     "user_tz": 180
    },
    "id": "I8N3D_nU1_oT"
   },
   "outputs": [],
   "source": [
    "import numpy as np\n",
    "import scipy as sp\n",
    "import scipy.linalg as linalg\n",
    "import matplotlib.pyplot as plt"
   ]
  },
  {
   "cell_type": "markdown",
   "metadata": {
    "id": "NcaGEHAd10sb"
   },
   "source": [
    "## **Ejercicio 2)** Integrador de **Euler**\n",
    "\n",
    "### Ecuaciones Diferenciales Ordinarias (ODEs)\n",
    "\n",
    "El comportamiento de un sistema dinámico se suele describir en términos de trayectorias. Una trayectoria es una función del tiempo \n",
    "\n",
    "\\begin{eqnarray}\n",
    "x:\\mathbb{R}\\ni t\\to x(t)\\in X\n",
    "\\end{eqnarray}\n",
    "\n",
    "en donde $x(t)\\in X$ representa el estado que exhibe el sistema al tiempo $t$ y $X$ es un espacio vectorial.\n",
    "Típicamente, $X=\\mathbb{R}^n$.\n",
    "\n",
    "Las trayectorias de un sistema dinámico suelen ser soluciones de una ecuación diferencial.\n",
    "Nosotros, nos enfocaremos en sistemas dinámicos caracterizados por Ecuaciones Diferenciales Ordinarias (ODEs).\n",
    "\n",
    "Decimos que una trayectoria $x:t\\to x(t)$ es su solución de una ODE caracterizada por una función \n",
    "\n",
    "\\begin{eqnarray}\n",
    "f: X,\\mathbb{R} \\ni x,t \\to f(x,t) \\in X\n",
    "\\end{eqnarray}\n",
    "\n",
    "cuando\n",
    "\n",
    "\\begin{eqnarray}\n",
    "x'(t) = f(x(t),t)\n",
    "\\end{eqnarray}\n",
    "\n",
    "para todo tiempo $t$ perteneciente a algún intervalo de tiempo $ T\\subseteq \\mathbb{R}$. Aquí, $x'(t)$ es la derivada con respecto al tiempo $t$ de la función $x:t\\to x(t)$ que representa la trayectoria.\n",
    "\n",
    "En una ODE, una trayectoria particular $x$ queda unívocamente determinada por el valor de $x(t)$ en algún tiempo específico. Típicamente, se considera una *condición incial* $x(a)$, y nos interesa computar el valor de $x(t)$ para todo $t\\in [a,b]$, i.e. conocer la trayectoria para todo tiempo entre un tiempo incial $a$ y un tiempo final $b$.\n",
    "\n",
    "### Métodos de integración numérica de ODEs\n",
    "\n",
    "Los métodos de integración de sistemas de Ecuaciones Diferenciales Ordinarias (ODEs) consisten, básicamente, de dos partes.\n",
    "\n",
    "* Un método de extrapolación que permita aproximar **un paso de integración**, i.e. aproximar $x(t+h)$ a partir de conocer $t$, $x(t)$ y $f$ para valores de $h\\in \\mathbb{R}$ suficientementes pequeños.\n",
    "\n",
    "* Un **integrador** de sucesivas aproximaciones $w_0$, $w_1$, ..., $w_k$ de los valores $x(a)$, $x(a+h)$, $x(a+2h)$, ..., $x(a+kh)=x(b)$ computadas secuencialmente a partir de un valor incial $w_0=x(a)$.\n",
    "\n",
    "Existen varios métodos de aproximar un paso de integración.\n",
    "En cambio, el integrador suele ser común a los diferentes métodos.\n",
    "\n",
    "### Método de Euler\n",
    "\n",
    "El método de Euler es, quizás, el más simple que existe.\n",
    "Esencialmente, consiste en aproximar de $x(t+h)$ utilizando $f(x,t)$ para calcular la extrapolación lineal \n",
    "\n",
    "\\begin{eqnarray}\n",
    "x(t+h) \n",
    "&=& \n",
    "x(t) + x'(t)h + x''(t)\\frac{h^2}{2} + ...\n",
    "\\\\\n",
    "&\\approx & \n",
    "x(t) + x'(t)h\n",
    "\\\\\n",
    "&=&\n",
    "x(t) + f(x(t),t)h\n",
    "\\end{eqnarray}\n",
    "\n",
    "para un valor de $h$ que sea relativamente pequeño.\n",
    "\n",
    "### Integrador\n",
    "\n",
    "Si $t_0,t_1,...,t_n$ son valores equiespaciados en el intervalo de tiempo $[a,b]$, entonces $t_j=a+jh$ para $j\\in \\{0,1,2,...,n\\}$ con $t_n=b$ y $h=(b-a)/n$.\n",
    "Luego, utilizando el método $m$ proveido por el usuario, se computan sucesivamente las aproximaciones\n",
    "\n",
    "\\begin{eqnarray}\n",
    "w_{j} &=& m(f,w_{j-1},t_{j-1},h)\n",
    "\\end{eqnarray}\n",
    "\n",
    "de los valores $x(t+jh)$ para $j=1,...,n$, partiendo de la condición inicial $w_0=x(t_0)=x(a)$.\n",
    "\n",
    "Por ejemplo, si el método proveido es el de Euler, las aproximaciones adoptan la forma\n",
    "\n",
    "\\begin{eqnarray}\n",
    "w_{j} &=& w_{j-1} + f(w_{j-1},t_{j-1})h\n",
    "\\end{eqnarray}\n",
    "\n",
    "**a)** Implemente una función de Python llamada `euler` que compute un paso de integración según el método de **Euler**. \n",
    "Dicha función debe tomar como argumentos:\n",
    "\n",
    "* La función $f:\\mathbb{R}^n,\\mathbb{R} \\to \\mathbb{R}^n$ que caracterize el lado derecho de la ODE.\n",
    "\n",
    "* Un valor de $x \\in \\mathbb{R}^n$.\n",
    "\n",
    "* Un valor de $t \\in \\mathbb{R}$.\n",
    "\n",
    "* El paso de integración $h \\in \\mathbb{R}$.\n",
    "\n",
    "* Un vector de parámetros $p \\in \\mathbb{R}^m$.\n",
    "\n",
    "La función  `euler` debe retornar el lado derecho de la aproximación $x(t+h)\\approx x(t) + f(x(t),t)h$.\n",
    "\n",
    "**b)** Implemente una función de Python llamada `integrador_ode` que integre el cómputo de sucesivos pasos de integración.\n",
    "Dicha función debe tomar como argumentos:\n",
    "\n",
    "* Una función `m` que aproxime el paso de integración (ej. `euler`).\n",
    "\n",
    "* La función $f:\\mathbb{R}^n,\\mathbb{R} \\to \\mathbb{R}^n$.\n",
    "\n",
    "* La condición inicial $x_0=x(a)\\in \\mathbb{R}^n$.\n",
    "\n",
    "* El tiempo inciial $a\\in \\mathbb{R}$.\n",
    "\n",
    "* El tiempo final $b\\in \\mathbb{R}$.\n",
    "\n",
    "* El número $k\\in \\mathbb{N}$ de pasos de integración.\n",
    "\n",
    "* Un vector de parámetros $p \\in \\mathbb{R}^m$.\n",
    "\n",
    "* Y, opcionalmente, una *función condicionante* \n",
    "\\begin{eqnarray}\n",
    "c:\\mathbb{R}^n,\\mathbb{R},\\mathbb{R}^m\\ni x(t),t,p \\to c(x(t),t,p)\\in \\mathbb{R}^n\n",
    "\\end{eqnarray}\n",
    "que permita intervenir en el cómputo de la trayectoria cuando se desee.\n",
    "Veremos más adelante para que sirve esta función condicionante."
   ]
  },
  {
   "cell_type": "code",
   "execution_count": null,
   "metadata": {
    "id": "WzC6cMan7S3i"
   },
   "outputs": [],
   "source": [
    "def f(x):                  ### Creando una funcion\n",
    "  return np.sin(x)"
   ]
  },
  {
   "cell_type": "code",
   "execution_count": null,
   "metadata": {
    "colab": {
     "base_uri": "https://localhost:8080/"
    },
    "executionInfo": {
     "elapsed": 1078,
     "status": "ok",
     "timestamp": 1664114880605,
     "user": {
      "displayName": "ROBERTO RENZO JOEL D´PAULA",
      "userId": "10373003643603364177"
     },
     "user_tz": 180
    },
    "id": "G9Ah7KZF7UDX",
    "outputId": "9f487b16-9d9c-4baa-e38d-08bf05659f27"
   },
   "outputs": [
    {
     "data": {
      "text/plain": [
       "1.2246467991473532e-16"
      ]
     },
     "execution_count": 6,
     "metadata": {},
     "output_type": "execute_result"
    }
   ],
   "source": [
    "f(np.pi)"
   ]
  },
  {
   "cell_type": "code",
   "execution_count": null,
   "metadata": {
    "id": "IKiTdbzN9nzm"
   },
   "outputs": [],
   "source": []
  },
  {
   "cell_type": "code",
   "execution_count": 2,
   "metadata": {
    "executionInfo": {
     "elapsed": 48,
     "status": "ok",
     "timestamp": 1664291711862,
     "user": {
      "displayName": "ROBERTO RENZO JOEL D´PAULA",
      "userId": "10373003643603364177"
     },
     "user_tz": 180
    },
    "id": "amK5T3rZytyJ"
   },
   "outputs": [],
   "source": [
    "# a) Euler\n",
    "def Euler(f,x0,t0,h,p):\n",
    "  return x0 + h*f(t0, x0, p)"
   ]
  },
  {
   "cell_type": "code",
   "execution_count": 3,
   "metadata": {
    "executionInfo": {
     "elapsed": 37,
     "status": "ok",
     "timestamp": 1664291711865,
     "user": {
      "displayName": "ROBERTO RENZO JOEL D´PAULA",
      "userId": "10373003643603364177"
     },
     "user_tz": 180
    },
    "id": "IoqiVqsN-lSX"
   },
   "outputs": [],
   "source": [
    "# b) Integrador\n",
    "def iteracion_ODE(Metodo,f,x0,a,b,N,p):\n",
    "    t = np.zeros(N+1)\n",
    "    w = np.zeros(N+1)\n",
    "    h = (b-a)/(N)\n",
    "    t[0] = a\n",
    "    w[0] = x0\n",
    "    for i in range(1,N+1):\n",
    "        t[i] = t[i-1]+h\n",
    "        w[i] = Metodo(f,w[i-1],t[i-1],h,p)\n",
    "    return t[:],w[:]"
   ]
  },
  {
   "cell_type": "code",
   "execution_count": null,
   "metadata": {
    "colab": {
     "base_uri": "https://localhost:8080/"
    },
    "executionInfo": {
     "elapsed": 399,
     "status": "ok",
     "timestamp": 1664150806426,
     "user": {
      "displayName": "ROBERTO RENZO JOEL D´PAULA",
      "userId": "10373003643603364177"
     },
     "user_tz": 180
    },
    "id": "CRD6xkntHSJ1",
    "outputId": "0d772ec4-4b20-42b3-eb6b-16442de97458"
   },
   "outputs": [
    {
     "data": {
      "text/plain": [
       "(0.1, 0.1111111111111111)"
      ]
     },
     "execution_count": 73,
     "metadata": {},
     "output_type": "execute_result"
    }
   ],
   "source": [
    "(b-a)/(N),(b-a)/(N-1)"
   ]
  },
  {
   "cell_type": "code",
   "execution_count": null,
   "metadata": {
    "colab": {
     "base_uri": "https://localhost:8080/"
    },
    "executionInfo": {
     "elapsed": 582,
     "status": "ok",
     "timestamp": 1664152762267,
     "user": {
      "displayName": "ROBERTO RENZO JOEL D´PAULA",
      "userId": "10373003643603364177"
     },
     "user_tz": 180
    },
    "id": "YEHw2UFwA-C2",
    "outputId": "cf32effa-ec0a-48e1-c421-9f7e1b6232b3"
   },
   "outputs": [
    {
     "name": "stdout",
     "output_type": "stream",
     "text": [
      "1\n",
      "2\n",
      "3\n",
      "4\n",
      "5\n",
      "6\n",
      "7\n",
      "8\n",
      "9\n"
     ]
    }
   ],
   "source": [
    " for i in range(1,N):\n",
    "   print(i)"
   ]
  },
  {
   "cell_type": "code",
   "execution_count": null,
   "metadata": {
    "colab": {
     "base_uri": "https://localhost:8080/"
    },
    "executionInfo": {
     "elapsed": 353,
     "status": "ok",
     "timestamp": 1664151048420,
     "user": {
      "displayName": "ROBERTO RENZO JOEL D´PAULA",
      "userId": "10373003643603364177"
     },
     "user_tz": 180
    },
    "id": "3XXn0ZEH_fwe",
    "outputId": "f9a9a5d0-4e0b-4eb2-87a9-482a93e416aa"
   },
   "outputs": [
    {
     "name": "stdout",
     "output_type": "stream",
     "text": [
      "0\n",
      "1\n",
      "2\n",
      "3\n",
      "4\n",
      "5\n",
      "6\n",
      "7\n",
      "8\n",
      "9\n"
     ]
    }
   ],
   "source": [
    "for j in range(N): \n",
    "  print(j)"
   ]
  },
  {
   "cell_type": "code",
   "execution_count": null,
   "metadata": {
    "id": "k-nbQrcUIcwv"
   },
   "outputs": [],
   "source": []
  },
  {
   "cell_type": "code",
   "execution_count": null,
   "metadata": {
    "id": "LtuYX0VCDcJ-"
   },
   "outputs": [],
   "source": [
    "#Ejemplo\n",
    "def f(t,y,p):\n",
    "  return -y+np.sin(2*np.pi*t)\n",
    "a = 0\n",
    "b = 1\n",
    "x0 = 1.0\n",
    "N = 10          ### h=0,1\n",
    "p = 0"
   ]
  },
  {
   "cell_type": "code",
   "execution_count": null,
   "metadata": {
    "id": "MnM6FrhiDq--"
   },
   "outputs": [],
   "source": [
    "t,x = iteracion_ODE(Euler,f,x0,a,b,N,p)"
   ]
  },
  {
   "cell_type": "code",
   "execution_count": null,
   "metadata": {
    "colab": {
     "base_uri": "https://localhost:8080/"
    },
    "executionInfo": {
     "elapsed": 444,
     "status": "ok",
     "timestamp": 1664152770494,
     "user": {
      "displayName": "ROBERTO RENZO JOEL D´PAULA",
      "userId": "10373003643603364177"
     },
     "user_tz": 180
    },
    "id": "4ud7uqBSFqow",
    "outputId": "f4c064a3-3cb2-4611-e024-1040d273fcd1"
   },
   "outputs": [
    {
     "data": {
      "text/plain": [
       "(array([0. , 0.1, 0.2, 0.3, 0.4, 0.5, 0.6, 0.7, 0.8, 0.9, 1. ]),\n",
       " array([1.        , 0.9       , 0.86877853, 0.87700632, 0.88441134,\n",
       "        0.85474873, 0.76927386, 0.63356795, 0.4751055 , 0.3324893 ,\n",
       "        0.24046185]))"
      ]
     },
     "execution_count": 122,
     "metadata": {},
     "output_type": "execute_result"
    }
   ],
   "source": [
    "t,x"
   ]
  },
  {
   "cell_type": "code",
   "execution_count": null,
   "metadata": {
    "colab": {
     "base_uri": "https://localhost:8080/",
     "height": 312
    },
    "executionInfo": {
     "elapsed": 399,
     "status": "ok",
     "timestamp": 1664152773909,
     "user": {
      "displayName": "ROBERTO RENZO JOEL D´PAULA",
      "userId": "10373003643603364177"
     },
     "user_tz": 180
    },
    "id": "Ae1cF6zfGU7F",
    "outputId": "59ae3a09-9586-4c25-af7c-a7f427d8ba80"
   },
   "outputs": [
    {
     "data": {
      "text/plain": [
       "Text(0.5, 1.0, 'Ejemplo')"
      ]
     },
     "execution_count": 123,
     "metadata": {},
     "output_type": "execute_result"
    },
    {
     "data": {
      "image/png": "[encoded data removed]",
      "text/plain": [
       "<Figure size 432x288 with 1 Axes>"
      ]
     },
     "metadata": {
      "needs_background": "light"
     },
     "output_type": "display_data"
    }
   ],
   "source": [
    "plt.plot(t,x)\n",
    "plt.xlabel('t')\n",
    "plt.ylabel('x')\n",
    "plt.title('Ejemplo')"
   ]
  },
  {
   "cell_type": "code",
   "execution_count": null,
   "metadata": {
    "id": "HYggvWtaJQWw"
   },
   "outputs": [],
   "source": [
    "# 2.b)\n",
    "def integrador_ode(m,f,xa,a,b,k,p,c=lambda x,t,p:x):\n",
    "    \"\"\"\n",
    "    Integra numéricamente la ODE\n",
    "    \n",
    "        dx/dt = f(x,t)\n",
    "        \n",
    "    sobre el intervalo t:[a,b] usando k pasos de integración y el método m, bajo condicion inicial x(a)=x0.\n",
    "    No es necesario que a<b.\n",
    "    \n",
    "    Argumentos de entrada:\n",
    "    \n",
    "        m = metodo de integracion (ej. euler, rk2, etc.)\n",
    "        f : R^n -> R^n\n",
    "        xa = condicion inicial : R\n",
    "        a = tiempo inicial : R\n",
    "        b = tiempo final : R\n",
    "        k = num. pasos de integracion : N\n",
    "        p = parametros : R^q\n",
    "        c = función condicionante : R^n,R,p -> R^n\n",
    "    \n",
    "    Retorna:\n",
    "    \n",
    "        t : R^{k+1} , t_j = a+j*h para j=0,1,...,k\n",
    "        w : R^{n,k+1} , w_ij = x_i(t_j) para i=0,1,...,n-1 y j=0,1,...,k\n",
    "        \n",
    "    donde a+k*dt = b.\n",
    "    \"\"\"  \n",
    "    assert k>0\n",
    "    n = len(xa)\n",
    "    h = (b-a)/k\n",
    "    w = np.zeros((n,k+1)) # Produce un array con forma y tipo especificada con los parametros, \n",
    "                          # lleno de ceros. la forma puede ser espcificada con un entero o tupla (n,k+1)    \n",
    "    t = np.zeros(k+1)\n",
    "    w[:,0] = xa           # actualiza la posicion inicial (columna de indice 0) de las variables con los valores \n",
    "                          # de las condiciones iniciales\n",
    "    t[0] = a              # actualiza la posicion cero con el valor del tiempo inicial\n",
    "    \n",
    "    for j in range(k):    #Aca se produce la iteración en j \n",
    "        \n",
    "        t[j+1] = t[j] + h                # iteracion tiempo \n",
    "        w[:,j+1] = m(f,w[:,j],t[j],h,p)  # iteracion de w \n",
    "        w[:,j+1] = c(w[:,j+1],t[j+1],p)  # condicion sobre w\n",
    "\n",
    "    return t,w"
   ]
  },
  {
   "cell_type": "code",
   "execution_count": null,
   "metadata": {
    "id": "mYLwP208KTNx"
   },
   "outputs": [],
   "source": [
    "def f(t,y,p):\n",
    "  return -y+np.sin(2*np.pi*t)\n",
    "a = 0\n",
    "b = 1\n",
    "x0 = [1.0]\n",
    "N = 10          ### h=0,1\n",
    "p = 0"
   ]
  },
  {
   "cell_type": "code",
   "execution_count": null,
   "metadata": {
    "id": "m7-cfTrrJT7T"
   },
   "outputs": [],
   "source": [
    "t,x= integrador_ode(Euler,f,x0,a,b,N,p,c=lambda x,t,p:x)"
   ]
  },
  {
   "cell_type": "code",
   "execution_count": null,
   "metadata": {
    "colab": {
     "base_uri": "https://localhost:8080/"
    },
    "executionInfo": {
     "elapsed": 7,
     "status": "ok",
     "timestamp": 1664149687489,
     "user": {
      "displayName": "ROBERTO RENZO JOEL D´PAULA",
      "userId": "10373003643603364177"
     },
     "user_tz": 180
    },
    "id": "Ct-grpERKv7V",
    "outputId": "17e1a68b-7840-4366-8d85-52768b928155"
   },
   "outputs": [
    {
     "data": {
      "text/plain": [
       "(array([0. , 0.1, 0.2, 0.3, 0.4, 0.5, 0.6, 0.7, 0.8, 0.9, 1. ]),\n",
       " array([[1.        , 0.9       , 0.86877853, 0.87700632, 0.88441134,\n",
       "         0.85474873, 0.76927386, 0.63356795, 0.4751055 , 0.3324893 ,\n",
       "         0.24046185]]))"
      ]
     },
     "execution_count": 44,
     "metadata": {},
     "output_type": "execute_result"
    }
   ],
   "source": [
    "t,x"
   ]
  },
  {
   "cell_type": "code",
   "execution_count": null,
   "metadata": {
    "colab": {
     "base_uri": "https://localhost:8080/"
    },
    "executionInfo": {
     "elapsed": 12,
     "status": "ok",
     "timestamp": 1664149692236,
     "user": {
      "displayName": "ROBERTO RENZO JOEL D´PAULA",
      "userId": "10373003643603364177"
     },
     "user_tz": 180
    },
    "id": "XkSugt-aK8ig",
    "outputId": "a3c328e8-d891-4f7a-fbce-08321127903a"
   },
   "outputs": [
    {
     "data": {
      "text/plain": [
       "(11, (1, 11))"
      ]
     },
     "execution_count": 45,
     "metadata": {},
     "output_type": "execute_result"
    }
   ],
   "source": [
    "len(t),x.shape"
   ]
  },
  {
   "cell_type": "code",
   "execution_count": null,
   "metadata": {
    "colab": {
     "base_uri": "https://localhost:8080/"
    },
    "executionInfo": {
     "elapsed": 17,
     "status": "ok",
     "timestamp": 1664149694525,
     "user": {
      "displayName": "ROBERTO RENZO JOEL D´PAULA",
      "userId": "10373003643603364177"
     },
     "user_tz": 180
    },
    "id": "lVBiKio7LiVj",
    "outputId": "175979b2-600d-47a6-cb01-8d9684cffbf5"
   },
   "outputs": [
    {
     "data": {
      "text/plain": [
       "array([1.        , 0.9       , 0.86877853, 0.87700632, 0.88441134,\n",
       "       0.85474873, 0.76927386, 0.63356795, 0.4751055 , 0.3324893 ,\n",
       "       0.24046185])"
      ]
     },
     "execution_count": 46,
     "metadata": {},
     "output_type": "execute_result"
    }
   ],
   "source": [
    "x[0]"
   ]
  },
  {
   "cell_type": "code",
   "execution_count": null,
   "metadata": {
    "colab": {
     "base_uri": "https://localhost:8080/",
     "height": 295
    },
    "executionInfo": {
     "elapsed": 425,
     "status": "ok",
     "timestamp": 1664149698963,
     "user": {
      "displayName": "ROBERTO RENZO JOEL D´PAULA",
      "userId": "10373003643603364177"
     },
     "user_tz": 180
    },
    "id": "n0a2ynZQKdz_",
    "outputId": "e27d3606-a4bf-4e6e-a946-559bc43b2423"
   },
   "outputs": [
    {
     "data": {
      "image/png": "[encoded data removed]",
      "text/plain": [
       "<Figure size 432x288 with 1 Axes>"
      ]
     },
     "metadata": {
      "needs_background": "light"
     },
     "output_type": "display_data"
    }
   ],
   "source": [
    "plt.plot(t,x[0])\n",
    "plt.xlabel('t')\n",
    "plt.ylabel('x')\n",
    "plt.title('Lab DLS')\n",
    "plt.show()"
   ]
  },
  {
   "cell_type": "markdown",
   "metadata": {
    "id": "yBKvIBvmr3Wb"
   },
   "source": [
    "## **Ejercicio 3)** Crecimiento exponencial\n",
    "\n",
    "Considere la ODE\n",
    "\n",
    "\\begin{eqnarray}\n",
    "x'(t)\n",
    "&=&\n",
    "qx(t)\n",
    "\\end{eqnarray}\n",
    "\n",
    "donde $q$ es una constante positiva.\n",
    "\n",
    "**a)** Utilice el integrador ODE implementado en el ejercicio 2) para integrar la ODE arriba definida, a partir de la condición inicial $x(t=0)=1$ hasta el tiempo $t=3$, y para $q=1$. Utilice el paso de integración $h=0.1$.\n",
    "\n",
    "**b)** Grafique la solución numérica computada en el inciso anterior. Incluya en el gráfico la solución exacta que se deriva a continuación\n",
    "\n",
    "\\begin{eqnarray}\n",
    "x'(t)\n",
    "&=&\n",
    "qx(t)\n",
    "\\\\\n",
    "\\frac{dx}{dt}\n",
    "&=&\n",
    "qx\n",
    "\\\\\n",
    "\\frac{dx}{x}\n",
    "&=&\n",
    "qdt\n",
    "\\\\\n",
    "\\int_{x(0)}^{x(\\tau)}\n",
    "\\frac{dx}{x}\n",
    "&=&\n",
    "q\n",
    "\\int_0^{\\tau} dt\n",
    "\\\\\n",
    "\\ln(x(\\tau))-\\ln(x(0))\n",
    "&=&\n",
    "q\\tau\n",
    "\\\\\n",
    "\\ln(x(t))\n",
    "&=&\n",
    "qt\n",
    "+\n",
    "\\ln(x(0))\n",
    "\\\\\n",
    "x(t)\n",
    "&=&\n",
    "e^{\n",
    "qt\n",
    "+\n",
    "\\ln(x(0))\n",
    "}\n",
    "\\\\\n",
    "x(t)\n",
    "&=&\n",
    "e^{\\ln(x(0))}\n",
    "e^{qt}\n",
    "\\\\\n",
    "x(t)\n",
    "&=&\n",
    "x(0)\n",
    "e^{qt}\n",
    "\\end{eqnarray}\n",
    "\n",
    "**c)** Repita para $h=0.01$."
   ]
  },
  {
   "cell_type": "code",
   "execution_count": null,
   "metadata": {
    "id": "GK-NE5RxN_a3"
   },
   "outputs": [],
   "source": [
    "# a)"
   ]
  },
  {
   "cell_type": "code",
   "execution_count": null,
   "metadata": {
    "id": "-H-U27JGPkZB"
   },
   "outputs": [],
   "source": [
    "# Solucion exacta\n",
    "def f_exacta(t,q):\n",
    "  return x0*np.exp(q*t)"
   ]
  },
  {
   "cell_type": "code",
   "execution_count": null,
   "metadata": {
    "colab": {
     "base_uri": "https://localhost:8080/"
    },
    "executionInfo": {
     "elapsed": 332,
     "status": "ok",
     "timestamp": 1664159111267,
     "user": {
      "displayName": "ROBERTO RENZO JOEL D´PAULA",
      "userId": "10373003643603364177"
     },
     "user_tz": 180
    },
    "id": "bw8CoeiAywQ5",
    "outputId": "4540ed61-10f3-49da-dd36-083fa8e9ecff"
   },
   "outputs": [
    {
     "data": {
      "text/plain": [
       "30"
      ]
     },
     "execution_count": 236,
     "metadata": {},
     "output_type": "execute_result"
    }
   ],
   "source": [
    "def f(t,x,p):\n",
    "  return p*x\n",
    "a = 0\n",
    "b = 3\n",
    "x0 = 1.0\n",
    "h = 0.1          ### h=0,1\n",
    "N = int((b-a)/h)\n",
    "q = 1.\n",
    "p = q\n",
    "N"
   ]
  },
  {
   "cell_type": "code",
   "execution_count": null,
   "metadata": {
    "id": "_IDuSAzfLQv2"
   },
   "outputs": [],
   "source": [
    "t,x = iteracion_ODE(Euler,f,x0,a,b,N,p)"
   ]
  },
  {
   "cell_type": "code",
   "execution_count": null,
   "metadata": {
    "colab": {
     "base_uri": "https://localhost:8080/"
    },
    "executionInfo": {
     "elapsed": 390,
     "status": "ok",
     "timestamp": 1664159130153,
     "user": {
      "displayName": "ROBERTO RENZO JOEL D´PAULA",
      "userId": "10373003643603364177"
     },
     "user_tz": 180
    },
    "id": "6MRYvx9eNvBu",
    "outputId": "7a254782-5ec2-4e9f-a07f-3f3e68af7598"
   },
   "outputs": [
    {
     "data": {
      "text/plain": [
       "(array([0. , 0.1, 0.2, 0.3, 0.4, 0.5, 0.6, 0.7, 0.8, 0.9, 1. , 1.1, 1.2,\n",
       "        1.3, 1.4, 1.5, 1.6, 1.7, 1.8, 1.9, 2. , 2.1, 2.2, 2.3, 2.4, 2.5,\n",
       "        2.6, 2.7, 2.8, 2.9, 3. ]),\n",
       " array([ 1.        ,  1.1       ,  1.21      ,  1.331     ,  1.4641    ,\n",
       "         1.61051   ,  1.771561  ,  1.9487171 ,  2.14358881,  2.35794769,\n",
       "         2.59374246,  2.85311671,  3.13842838,  3.45227121,  3.79749834,\n",
       "         4.17724817,  4.59497299,  5.05447028,  5.55991731,  6.11590904,\n",
       "         6.72749995,  7.40024994,  8.14027494,  8.95430243,  9.84973268,\n",
       "        10.83470594, 11.91817654, 13.10999419, 14.42099361, 15.86309297,\n",
       "        17.44940227]))"
      ]
     },
     "execution_count": 238,
     "metadata": {},
     "output_type": "execute_result"
    }
   ],
   "source": [
    "t,x"
   ]
  },
  {
   "cell_type": "code",
   "execution_count": null,
   "metadata": {
    "colab": {
     "base_uri": "https://localhost:8080/",
     "height": 295
    },
    "executionInfo": {
     "elapsed": 405,
     "status": "ok",
     "timestamp": 1664159137149,
     "user": {
      "displayName": "ROBERTO RENZO JOEL D´PAULA",
      "userId": "10373003643603364177"
     },
     "user_tz": 180
    },
    "id": "SGY_HwpFNxZR",
    "outputId": "d0d55849-bfb5-4baa-be5f-5db135b6b9b1"
   },
   "outputs": [
    {
     "data": {
      "image/png": "[encoded data removed]",
      "text/plain": [
       "<Figure size 432x288 with 1 Axes>"
      ]
     },
     "metadata": {
      "needs_background": "light"
     },
     "output_type": "display_data"
    }
   ],
   "source": [
    "plt.scatter(t,x)\n",
    "plt.plot(t,f_exacta(t,q))\n",
    "plt.xlabel('t')\n",
    "plt.ylabel('x(t)')\n",
    "plt.title('Crecimiento Exponencial, Euler, h=0.1')\n",
    "plt.show()"
   ]
  },
  {
   "cell_type": "code",
   "execution_count": null,
   "metadata": {
    "colab": {
     "base_uri": "https://localhost:8080/",
     "height": 316
    },
    "executionInfo": {
     "elapsed": 485,
     "status": "ok",
     "timestamp": 1664159141197,
     "user": {
      "displayName": "ROBERTO RENZO JOEL D´PAULA",
      "userId": "10373003643603364177"
     },
     "user_tz": 180
    },
    "id": "jl6u2ChsSB3v",
    "outputId": "7f51e8db-ac01-49de-8522-a2bb72888e0a"
   },
   "outputs": [
    {
     "data": {
      "text/plain": [
       "<matplotlib.legend.Legend at 0x7ff667ccf3d0>"
      ]
     },
     "execution_count": 240,
     "metadata": {},
     "output_type": "execute_result"
    },
    {
     "data": {
      "image/png": "[encoded data removed]",
      "text/plain": [
       "<Figure size 432x288 with 1 Axes>"
      ]
     },
     "metadata": {
      "needs_background": "light"
     },
     "output_type": "display_data"
    }
   ],
   "source": [
    "# b)\n",
    "plt.xlabel('$t$')\n",
    "plt.ylabel('$x(t)$')\n",
    "#plt.xlim(-0.1,5.1)\n",
    "#plt.ylim(-0.1,1.1)\n",
    "plt.scatter(t,x,label=\"numérica\",linestyle='-',c='red')\n",
    "plt.plot(t,np.exp(q*t),label=\"exacta\",linestyle='-',c='blue')\n",
    "plt.title('Crecimiento exponencial, Euler, $h=0.1$')\n",
    "plt.legend()"
   ]
  },
  {
   "cell_type": "code",
   "execution_count": null,
   "metadata": {
    "id": "S8TJ9j6IOE-Y"
   },
   "outputs": [],
   "source": []
  },
  {
   "cell_type": "code",
   "execution_count": null,
   "metadata": {
    "colab": {
     "base_uri": "https://localhost:8080/"
    },
    "executionInfo": {
     "elapsed": 422,
     "status": "ok",
     "timestamp": 1664152801768,
     "user": {
      "displayName": "ROBERTO RENZO JOEL D´PAULA",
      "userId": "10373003643603364177"
     },
     "user_tz": 180
    },
    "id": "Oj9XcAAbOMEn",
    "outputId": "d3c7a7d6-3f57-4f41-d5d0-838dcaa8fa6a"
   },
   "outputs": [
    {
     "data": {
      "text/plain": [
       "30"
      ]
     },
     "execution_count": 128,
     "metadata": {},
     "output_type": "execute_result"
    }
   ],
   "source": [
    "def f(t,x,p):\n",
    "  return p*x\n",
    "a = 0\n",
    "b = 3\n",
    "x0 = [1.0]\n",
    "h = 0.1          ### h=0,1\n",
    "N = int((b-a)/h)\n",
    "q = 1.\n",
    "p = q\n",
    "N"
   ]
  },
  {
   "cell_type": "code",
   "execution_count": null,
   "metadata": {
    "id": "YHptS2YyOF1a"
   },
   "outputs": [],
   "source": [
    "t,x = integrador_ode(Euler,f,x0,a,b,N,p)"
   ]
  },
  {
   "cell_type": "code",
   "execution_count": null,
   "metadata": {
    "colab": {
     "base_uri": "https://localhost:8080/"
    },
    "executionInfo": {
     "elapsed": 8,
     "status": "ok",
     "timestamp": 1664152804644,
     "user": {
      "displayName": "ROBERTO RENZO JOEL D´PAULA",
      "userId": "10373003643603364177"
     },
     "user_tz": 180
    },
    "id": "1Z37BsYsOoIL",
    "outputId": "1b2a7d0e-f4e5-43b7-f319-8b3201f87dc6"
   },
   "outputs": [
    {
     "data": {
      "text/plain": [
       "(array([0. , 0.1, 0.2, 0.3, 0.4, 0.5, 0.6, 0.7, 0.8, 0.9, 1. , 1.1, 1.2,\n",
       "        1.3, 1.4, 1.5, 1.6, 1.7, 1.8, 1.9, 2. , 2.1, 2.2, 2.3, 2.4, 2.5,\n",
       "        2.6, 2.7, 2.8, 2.9, 3. ]),\n",
       " array([[ 1.        ,  1.1       ,  1.21      ,  1.331     ,  1.4641    ,\n",
       "          1.61051   ,  1.771561  ,  1.9487171 ,  2.14358881,  2.35794769,\n",
       "          2.59374246,  2.85311671,  3.13842838,  3.45227121,  3.79749834,\n",
       "          4.17724817,  4.59497299,  5.05447028,  5.55991731,  6.11590904,\n",
       "          6.72749995,  7.40024994,  8.14027494,  8.95430243,  9.84973268,\n",
       "         10.83470594, 11.91817654, 13.10999419, 14.42099361, 15.86309297,\n",
       "         17.44940227]]))"
      ]
     },
     "execution_count": 130,
     "metadata": {},
     "output_type": "execute_result"
    }
   ],
   "source": [
    "t,x"
   ]
  },
  {
   "cell_type": "code",
   "execution_count": null,
   "metadata": {
    "colab": {
     "base_uri": "https://localhost:8080/",
     "height": 316
    },
    "executionInfo": {
     "elapsed": 1305,
     "status": "ok",
     "timestamp": 1664154211568,
     "user": {
      "displayName": "ROBERTO RENZO JOEL D´PAULA",
      "userId": "10373003643603364177"
     },
     "user_tz": 180
    },
    "id": "q-8--j0NOUYc",
    "outputId": "6665cdba-505c-4075-b533-9c2e7f987e93"
   },
   "outputs": [
    {
     "data": {
      "text/plain": [
       "<matplotlib.legend.Legend at 0x7ff6682e31d0>"
      ]
     },
     "execution_count": 166,
     "metadata": {},
     "output_type": "execute_result"
    },
    {
     "data": {
      "image/png": "[encoded data removed]",
      "text/plain": [
       "<Figure size 432x288 with 1 Axes>"
      ]
     },
     "metadata": {
      "needs_background": "light"
     },
     "output_type": "display_data"
    }
   ],
   "source": [
    "plt.xlabel('$t$')\n",
    "plt.ylabel('$x(t)$')\n",
    "#plt.xlim(-0.1,5.1)\n",
    "#plt.ylim(-0.1,1.1)\n",
    "plt.scatter(t,x[0],label=\"numérica\",linestyle='-',c='red')\n",
    "plt.plot(t,f_exacta(t,q),label=\"exacta\",linestyle='-',c='blue')\n",
    "plt.title('Crecimiento exponencial, Euler, $h=0.1$')\n",
    "plt.legend()"
   ]
  },
  {
   "cell_type": "code",
   "execution_count": null,
   "metadata": {
    "id": "INDFACnBPLuy"
   },
   "outputs": [],
   "source": [
    "# c)"
   ]
  },
  {
   "cell_type": "code",
   "execution_count": null,
   "metadata": {
    "colab": {
     "base_uri": "https://localhost:8080/"
    },
    "executionInfo": {
     "elapsed": 355,
     "status": "ok",
     "timestamp": 1664159196361,
     "user": {
      "displayName": "ROBERTO RENZO JOEL D´PAULA",
      "userId": "10373003643603364177"
     },
     "user_tz": 180
    },
    "id": "HZ1ot0FbnXzr",
    "outputId": "a395ed0b-9945-4d8b-8809-ad8b38cfb05e"
   },
   "outputs": [
    {
     "data": {
      "text/plain": [
       "300"
      ]
     },
     "execution_count": 242,
     "metadata": {},
     "output_type": "execute_result"
    }
   ],
   "source": [
    "def f(t,x,p):\n",
    "  return p*x\n",
    "a = 0\n",
    "b = 3\n",
    "x0 = 1.0\n",
    "h = 0.01          ### h=0,1\n",
    "N = int((b-a)/h)\n",
    "q = 1.\n",
    "p = q\n",
    "N"
   ]
  },
  {
   "cell_type": "code",
   "execution_count": null,
   "metadata": {
    "id": "-Mm3ac2dnX9T"
   },
   "outputs": [],
   "source": [
    "t,x = iteracion_ODE(Euler,f,x0,a,b,N,p)"
   ]
  },
  {
   "cell_type": "code",
   "execution_count": null,
   "metadata": {
    "colab": {
     "base_uri": "https://localhost:8080/",
     "height": 316
    },
    "executionInfo": {
     "elapsed": 22,
     "status": "ok",
     "timestamp": 1664159200375,
     "user": {
      "displayName": "ROBERTO RENZO JOEL D´PAULA",
      "userId": "10373003643603364177"
     },
     "user_tz": 180
    },
    "id": "yxqYg3HpnYEF",
    "outputId": "ef9ef8ae-f674-42fd-bf6d-9c771cf14a75"
   },
   "outputs": [
    {
     "data": {
      "text/plain": [
       "<matplotlib.legend.Legend at 0x7ff66795ce10>"
      ]
     },
     "execution_count": 244,
     "metadata": {},
     "output_type": "execute_result"
    },
    {
     "data": {
      "image/png": "[encoded data removed]",
      "text/plain": [
       "<Figure size 432x288 with 1 Axes>"
      ]
     },
     "metadata": {
      "needs_background": "light"
     },
     "output_type": "display_data"
    }
   ],
   "source": [
    "plt.xlabel('$t$')\n",
    "plt.ylabel('$x(t)$')\n",
    "#plt.xlim(-0.1,5.1)\n",
    "#plt.ylim(-0.1,1.1)\n",
    "plt.scatter(t,x,label=\"numérica\",linestyle='-',c='red')\n",
    "plt.plot(t,np.exp(q*t),label=\"exacta\",linestyle='-',c='blue')\n",
    "plt.title('Crecimiento exponencial, Euler, $h=0.1$')\n",
    "plt.legend()"
   ]
  },
  {
   "cell_type": "markdown",
   "metadata": {
    "id": "TGYPvZmyzp7w"
   },
   "source": [
    "## **Ejercicio 4)** Decaimiento exponencial\n",
    "\n",
    "Considere la ODE\n",
    "\n",
    "\\begin{eqnarray}\n",
    "x'(t)\n",
    "&=&\n",
    "-qx(t)+r\n",
    "\\end{eqnarray}\n",
    "\n",
    "donde $q$ es una constante positiva y $r$ es una constante arbitraria.\n",
    "\n",
    "**a)** Use el integrador ODE con el método de Euler para encontrar una aproximación numérica de la ODE arriba especificada.\n",
    "Considere la condición inicial $x(0)=3$ e integre hasta $t=3$.\n",
    "Utilice el paso de integración $h=0.1$ y los valores de los parámetros $q=2$ y $r=3$.\n",
    "\n",
    "**b)** Grafique la trayectoria computada en el inciso anterior y, con el fin de comparar, grafique simultaneamente la correspondiente solución analítica derivada a continuación\n",
    "\n",
    "\\begin{eqnarray}\n",
    "\\frac{dx}{dt}\n",
    "&=&\n",
    "-qx+r\n",
    "\\\\\n",
    "-\\frac{1}{q}\\frac{du}{dt}\n",
    "&=&\n",
    "u,\n",
    "\\;\\;\\;\\;\n",
    "\\;\\;\\;\\;\n",
    "\\;\\;\\;\\;\n",
    "u=-qx+r\n",
    "\\\\\n",
    "\\frac{du}{dt}\n",
    "&=&\n",
    "-qu\n",
    "\\\\\n",
    "u(t)\n",
    "&=&\n",
    "u(0)e^{-qt}\n",
    "\\\\\n",
    "-qx(t)+r\n",
    "&=&\n",
    "(-qx(0)+r)e^{-qt}\n",
    "\\\\\n",
    "x(t)\n",
    "&=&\n",
    "(x(0)-r/q)e^{-qt}+r/q\n",
    "\\end{eqnarray}\n",
    "\n",
    "**c)** Repita para $h=0.01$.\n",
    "\n",
    "**d)** Repita para $x(0)=1$."
   ]
  },
  {
   "cell_type": "code",
   "execution_count": null,
   "metadata": {
    "id": "kAFmnLDqlzUA"
   },
   "outputs": [],
   "source": [
    "# a)"
   ]
  },
  {
   "cell_type": "code",
   "execution_count": null,
   "metadata": {
    "id": "OpFtnmvXX4RU"
   },
   "outputs": [],
   "source": [
    "# Solucion exacta\n",
    "def f_exacta(t,p):\n",
    "  return (x0 - p[1]/p[0])*np.exp(-p[0]*t) + p[1]/p[0]"
   ]
  },
  {
   "cell_type": "code",
   "execution_count": null,
   "metadata": {
    "colab": {
     "base_uri": "https://localhost:8080/"
    },
    "executionInfo": {
     "elapsed": 441,
     "status": "ok",
     "timestamp": 1664158961786,
     "user": {
      "displayName": "ROBERTO RENZO JOEL D´PAULA",
      "userId": "10373003643603364177"
     },
     "user_tz": 180
    },
    "id": "eJWkW3Q7yzqW",
    "outputId": "f3de6e59-8ad8-42e1-e591-8a1bf1c148a2"
   },
   "outputs": [
    {
     "data": {
      "text/plain": [
       "30"
      ]
     },
     "execution_count": 221,
     "metadata": {},
     "output_type": "execute_result"
    }
   ],
   "source": [
    "def f(t,x,p):\n",
    "  return -p[0]*x + p[1]\n",
    "a = 0\n",
    "b = 3\n",
    "x0 = [3.0]\n",
    "h = 0.1          ### h=0,1\n",
    "N = int((b-a)/h)\n",
    "q = 2.0\n",
    "r = 3.0\n",
    "p = np.array([q,r])\n",
    "N"
   ]
  },
  {
   "cell_type": "code",
   "execution_count": null,
   "metadata": {
    "id": "dUOWocOHjGIu"
   },
   "outputs": [],
   "source": [
    "t,x = integrador_ode(Euler,f,x0,a,b,N,p)"
   ]
  },
  {
   "cell_type": "code",
   "execution_count": null,
   "metadata": {
    "id": "zGAd9h2Kl2MA"
   },
   "outputs": [],
   "source": [
    "# b)"
   ]
  },
  {
   "cell_type": "code",
   "execution_count": null,
   "metadata": {
    "colab": {
     "base_uri": "https://localhost:8080/",
     "height": 316
    },
    "executionInfo": {
     "elapsed": 500,
     "status": "ok",
     "timestamp": 1664158966043,
     "user": {
      "displayName": "ROBERTO RENZO JOEL D´PAULA",
      "userId": "10373003643603364177"
     },
     "user_tz": 180
    },
    "id": "dLt9NIAgj_Hg",
    "outputId": "554a0a48-f3bb-48bc-dcd1-89c3095c797e"
   },
   "outputs": [
    {
     "data": {
      "text/plain": [
       "<matplotlib.legend.Legend at 0x7ff667b3c450>"
      ]
     },
     "execution_count": 224,
     "metadata": {},
     "output_type": "execute_result"
    },
    {
     "data": {
      "image/png": "[encoded data removed]",
      "text/plain": [
       "<Figure size 432x288 with 1 Axes>"
      ]
     },
     "metadata": {
      "needs_background": "light"
     },
     "output_type": "display_data"
    }
   ],
   "source": [
    "plt.xlabel('$t$')\n",
    "plt.ylabel('$x(t)$')\n",
    "#plt.xlim(-0.1,5.1)\n",
    "#plt.ylim(-0.1,1.1)\n",
    "plt.scatter(t,x[0],label=\"numérica\",linestyle='-',c='red')\n",
    "plt.plot(t,f_exacta(t,p),label=\"exacta\",linestyle='-',c='blue')\n",
    "plt.title('Decaimiento Exponencial, Euler, $h=0.1$')\n",
    "plt.legend()"
   ]
  },
  {
   "cell_type": "code",
   "execution_count": null,
   "metadata": {
    "id": "kV_aqPXEl6fr"
   },
   "outputs": [],
   "source": [
    "# c)"
   ]
  },
  {
   "cell_type": "code",
   "execution_count": null,
   "metadata": {
    "colab": {
     "base_uri": "https://localhost:8080/"
    },
    "executionInfo": {
     "elapsed": 358,
     "status": "ok",
     "timestamp": 1664158972036,
     "user": {
      "displayName": "ROBERTO RENZO JOEL D´PAULA",
      "userId": "10373003643603364177"
     },
     "user_tz": 180
    },
    "id": "OWf00tYVmBHd",
    "outputId": "5d5429e5-1dc9-4ec5-cc11-d5e9bf0b7dce"
   },
   "outputs": [
    {
     "data": {
      "text/plain": [
       "300"
      ]
     },
     "execution_count": 225,
     "metadata": {},
     "output_type": "execute_result"
    }
   ],
   "source": [
    "def f(t,x,p):\n",
    "  return -p[0]*x + p[1]\n",
    "a = 0\n",
    "b = 3\n",
    "x0 = [3.0]\n",
    "h = 0.01          ### h=0,1\n",
    "N = int((b-a)/h)\n",
    "q = 2.0\n",
    "r = 3.0\n",
    "p = np.array([q,r])\n",
    "N"
   ]
  },
  {
   "cell_type": "code",
   "execution_count": null,
   "metadata": {
    "id": "0HwrKxVamEyG"
   },
   "outputs": [],
   "source": [
    "t,x = integrador_ode(Euler,f,x0,a,b,N,p)"
   ]
  },
  {
   "cell_type": "code",
   "execution_count": null,
   "metadata": {
    "colab": {
     "base_uri": "https://localhost:8080/",
     "height": 316
    },
    "executionInfo": {
     "elapsed": 682,
     "status": "ok",
     "timestamp": 1664158987348,
     "user": {
      "displayName": "ROBERTO RENZO JOEL D´PAULA",
      "userId": "10373003643603364177"
     },
     "user_tz": 180
    },
    "id": "qDmV0TBAmFpr",
    "outputId": "edea838c-3754-46a6-c7b6-bc31683c1c70"
   },
   "outputs": [
    {
     "data": {
      "text/plain": [
       "<matplotlib.legend.Legend at 0x7ff667ad9d90>"
      ]
     },
     "execution_count": 227,
     "metadata": {},
     "output_type": "execute_result"
    },
    {
     "data": {
      "image/png": "[encoded data removed]",
      "text/plain": [
       "<Figure size 432x288 with 1 Axes>"
      ]
     },
     "metadata": {
      "needs_background": "light"
     },
     "output_type": "display_data"
    }
   ],
   "source": [
    "plt.xlabel('$t$')\n",
    "plt.ylabel('$x(t)$')\n",
    "#plt.xlim(-0.1,5.1)\n",
    "#plt.ylim(-0.1,1.1)\n",
    "plt.scatter(t,x[0],label=\"numérica\",linestyle='-',c='red')\n",
    "plt.plot(t,f_exacta(t,p),label=\"exacta\",linestyle='-',c='blue')\n",
    "plt.title('Decaimiento Exponencial, Euler, $h=0.01$')\n",
    "plt.legend()"
   ]
  },
  {
   "cell_type": "code",
   "execution_count": null,
   "metadata": {
    "id": "i9UTigbyl7Wm"
   },
   "outputs": [],
   "source": [
    "# d)"
   ]
  },
  {
   "cell_type": "code",
   "execution_count": null,
   "metadata": {
    "colab": {
     "base_uri": "https://localhost:8080/"
    },
    "executionInfo": {
     "elapsed": 382,
     "status": "ok",
     "timestamp": 1664159062620,
     "user": {
      "displayName": "ROBERTO RENZO JOEL D´PAULA",
      "userId": "10373003643603364177"
     },
     "user_tz": 180
    },
    "id": "nMn0CwHCm40-",
    "outputId": "d94ad836-4c48-43f0-913e-077d6822833f"
   },
   "outputs": [
    {
     "data": {
      "text/plain": [
       "300"
      ]
     },
     "execution_count": 232,
     "metadata": {},
     "output_type": "execute_result"
    }
   ],
   "source": [
    "def f(t,x,p):\n",
    "  return -p[0]*x + p[1]\n",
    "a = 0\n",
    "b = 3\n",
    "x0 = [1.0]\n",
    "h = 0.01          ### h=0,1\n",
    "N = int((b-a)/h)\n",
    "q = 2.0\n",
    "r = 3.0\n",
    "p = np.array([q,r])\n",
    "N"
   ]
  },
  {
   "cell_type": "code",
   "execution_count": null,
   "metadata": {
    "id": "8Q3wzHmIm47h"
   },
   "outputs": [],
   "source": [
    "t,x = integrador_ode(Euler,f,x0,a,b,N,p)"
   ]
  },
  {
   "cell_type": "code",
   "execution_count": null,
   "metadata": {
    "colab": {
     "base_uri": "https://localhost:8080/",
     "height": 316
    },
    "executionInfo": {
     "elapsed": 25,
     "status": "ok",
     "timestamp": 1664159065766,
     "user": {
      "displayName": "ROBERTO RENZO JOEL D´PAULA",
      "userId": "10373003643603364177"
     },
     "user_tz": 180
    },
    "id": "iHbjLXPNm5AG",
    "outputId": "19aeea75-26c5-4cf8-eb8f-9eda9e94cfcc"
   },
   "outputs": [
    {
     "data": {
      "text/plain": [
       "<matplotlib.legend.Legend at 0x7ff667c8ce10>"
      ]
     },
     "execution_count": 234,
     "metadata": {},
     "output_type": "execute_result"
    },
    {
     "data": {
      "image/png": "[encoded data removed]",
      "text/plain": [
       "<Figure size 432x288 with 1 Axes>"
      ]
     },
     "metadata": {
      "needs_background": "light"
     },
     "output_type": "display_data"
    }
   ],
   "source": [
    "plt.xlabel('$t$')\n",
    "plt.ylabel('$x(t)$')\n",
    "#plt.xlim(-0.1,5.1)\n",
    "#plt.ylim(-0.1,1.1)\n",
    "plt.scatter(t,x[0],label=\"numérica\",linestyle='-',c='red')\n",
    "plt.plot(t,f_exacta(t,p),label=\"exacta\",linestyle='-',c='blue')\n",
    "plt.title('Decaimiento Exponencial, Euler, $h=0.01$')\n",
    "plt.legend()"
   ]
  },
  {
   "cell_type": "markdown",
   "metadata": {
    "id": "ELWhPITQXyQ8"
   },
   "source": [
    "## **Ejercicio 5)** Ecuación Logística\n",
    "\n",
    "Considere la ODE\n",
    "\n",
    "\\begin{eqnarray}\n",
    "x'(t)\n",
    "&=&\n",
    "rx(t)(1-x/K)\n",
    "\\end{eqnarray}\n",
    "\n",
    "**a)** Integre numéricamente la anterior ODE utilizando el método de Euler, la condición inicial $x(0)=0.1$, hasta $t=5$, utilizando un paso de integración $h=0.1$, una tasa de reproducción $r=1$ y una capacidad de carga $K=1$.\n",
    "\n",
    "**b)** Grafique la solución computada en el inciso anterior, comparandola con la solución analítica que se deriva a continuación\n",
    "\n",
    "\\begin{eqnarray}\n",
    "\\frac{dx}{dt}\n",
    "&=&\n",
    "rx(1-x/K)\n",
    "\\\\\n",
    "\\frac{dx}{x(1-x/K)}\n",
    "&=&\n",
    "rdt\n",
    "\\\\\n",
    "\\int_{x(0)}^{x(t)}\\frac{dx}{x(1-x/K)}\n",
    "&=&\n",
    "rt\n",
    "\\\\\n",
    "\\int_{x(0)}^{x(t)}dx\\,\\frac{1}{x}+\\frac{1}{K-x}\n",
    "&=&\n",
    "rt\n",
    "\\\\\n",
    "\\ln(x(t))-\\ln(x(0))\n",
    "-\n",
    "\\ln(K-x(t))\n",
    "+\n",
    "\\ln(K-x(0))\n",
    "&=&\n",
    "rt\n",
    "\\\\\n",
    "\\ln\\frac{x(t)}{K-x(t)}\n",
    "&=&\n",
    "rt\n",
    "+\n",
    "\\ln\\frac{x(0)}{K-x(0)}\n",
    "\\\\\n",
    "\\frac{x(t)}{K-x(t)}\n",
    "&=&\n",
    "f(t)\n",
    "=\n",
    "\\frac{x(0)}{K-x(0)}e^{rt}\n",
    "\\\\\n",
    "x(t)\n",
    "&=&\n",
    "(K-x(t))f(t)\n",
    "\\\\\n",
    "x(t)(1+f(t))\n",
    "&=&\n",
    "Kf(t)\n",
    "\\\\\n",
    "x(t)\n",
    "&=&\n",
    "K\\frac{f(t)}{1+f(t)}\n",
    "=\n",
    "K\\frac{1}{1+\\frac{1}{f(t)}}\n",
    "\\\\\n",
    "x(t)\n",
    "&=&\n",
    "K\\left(1+\\frac{K-x(0)}{x(0)}e^{-rt}\\right)^{-1}\n",
    "\\end{eqnarray}\n",
    "\n",
    "**c)** Repita para $x(0)=1.5$."
   ]
  },
  {
   "cell_type": "code",
   "execution_count": null,
   "metadata": {
    "id": "kLL6-KYloftM"
   },
   "outputs": [],
   "source": [
    "# Solucion exacta\n",
    "def f_exacta(t,x0,p):\n",
    "  return p[0]*(1+(p[0]-x0[0])/x0[0]*np.exp(-p[1]*t))**(-1)"
   ]
  },
  {
   "cell_type": "code",
   "execution_count": null,
   "metadata": {
    "id": "Ll9DEZWYy34c"
   },
   "outputs": [],
   "source": [
    "# a)"
   ]
  },
  {
   "cell_type": "code",
   "execution_count": null,
   "metadata": {
    "colab": {
     "base_uri": "https://localhost:8080/"
    },
    "executionInfo": {
     "elapsed": 17,
     "status": "ok",
     "timestamp": 1664236390340,
     "user": {
      "displayName": "ROBERTO RENZO JOEL D´PAULA",
      "userId": "10373003643603364177"
     },
     "user_tz": 180
    },
    "id": "CuoyZa6hoTxX",
    "outputId": "f75e39f4-f055-4eeb-b5c6-3db1792998f2"
   },
   "outputs": [
    {
     "data": {
      "text/plain": [
       "50"
      ]
     },
     "execution_count": 7,
     "metadata": {},
     "output_type": "execute_result"
    }
   ],
   "source": [
    "def f(t,x,p):\n",
    "  return p[1]*x*(1-x/p[0])\n",
    "a = 0\n",
    "b = 5\n",
    "x0 = [0.1]\n",
    "h = 0.1          ### h=0,1\n",
    "N = int((b-a)/h)\n",
    "k = 1.\n",
    "r = 1.\n",
    "p = np.array([k,r])\n",
    "N"
   ]
  },
  {
   "cell_type": "code",
   "execution_count": null,
   "metadata": {
    "id": "DNE4q6aqoT4e"
   },
   "outputs": [],
   "source": [
    "t,x = integrador_ode(Euler,f,x0,a,b,N,p)"
   ]
  },
  {
   "cell_type": "code",
   "execution_count": null,
   "metadata": {
    "id": "9_E94f2lsz8T"
   },
   "outputs": [],
   "source": [
    "# b)"
   ]
  },
  {
   "cell_type": "code",
   "execution_count": null,
   "metadata": {
    "colab": {
     "base_uri": "https://localhost:8080/",
     "height": 316
    },
    "executionInfo": {
     "elapsed": 586,
     "status": "ok",
     "timestamp": 1664236396126,
     "user": {
      "displayName": "ROBERTO RENZO JOEL D´PAULA",
      "userId": "10373003643603364177"
     },
     "user_tz": 180
    },
    "id": "L1ObNdQ4pU86",
    "outputId": "db74591f-b577-4fe7-b9ff-526007bcae1d"
   },
   "outputs": [
    {
     "data": {
      "text/plain": [
       "<matplotlib.legend.Legend at 0x7f947c3ea4d0>"
      ]
     },
     "execution_count": 9,
     "metadata": {},
     "output_type": "execute_result"
    },
    {
     "data": {
      "image/png": "[encoded data removed]",
      "text/plain": [
       "<Figure size 432x288 with 1 Axes>"
      ]
     },
     "metadata": {
      "needs_background": "light"
     },
     "output_type": "display_data"
    }
   ],
   "source": [
    "plt.xlabel('$t$')\n",
    "plt.ylabel('$x(t)$')\n",
    "#plt.xlim(-0.1,5.1)\n",
    "#plt.ylim(-0.1,1.1)\n",
    "plt.scatter(t,x[0],label=\"numérica\",linestyle='-',c='red')\n",
    "plt.plot(t,f_exacta(t,x0,p),label=\"exacta\",linestyle='-',c='blue')\n",
    "plt.title('Decaimiento Exponencial, Euler, $h=0.01$')\n",
    "plt.legend()"
   ]
  },
  {
   "cell_type": "code",
   "execution_count": null,
   "metadata": {
    "id": "4N7Qg0tcoIf8"
   },
   "outputs": [],
   "source": [
    "# c)"
   ]
  },
  {
   "cell_type": "code",
   "execution_count": null,
   "metadata": {
    "colab": {
     "base_uri": "https://localhost:8080/"
    },
    "executionInfo": {
     "elapsed": 1265,
     "status": "ok",
     "timestamp": 1664160644130,
     "user": {
      "displayName": "ROBERTO RENZO JOEL D´PAULA",
      "userId": "10373003643603364177"
     },
     "user_tz": 180
    },
    "id": "9PXCL3aioWy-",
    "outputId": "98b8b988-6552-4ef7-f846-cbe4283408cc"
   },
   "outputs": [
    {
     "data": {
      "text/plain": [
       "50"
      ]
     },
     "execution_count": 303,
     "metadata": {},
     "output_type": "execute_result"
    }
   ],
   "source": [
    "x0 = plt.xlabel('$t$')\n",
    "plt.ylabel('$x(t)$')\n",
    "#plt.xlim(-0.1,5.1)\n",
    "#plt.ylim(-0.1,1.1)\n",
    "plt.scatter(t,x[0],label=\"numérica\",linestyle='-',c='red')\n",
    "plt.plot(t,f_exacta(t,x0,p),label=\"exacta\",linestyle='-',c='blue')\n",
    "plt.title('Decaimiento Exponencial, Euler, $h=0.01$')\n",
    "plt.legend()[1.5]\n",
    "h = 0.1          ### h=0,1\n",
    "N = int((b-a)/h)\n",
    "k = 1.\n",
    "r = 1.\n",
    "p = np.array([k,r])\n",
    "N"
   ]
  },
  {
   "cell_type": "code",
   "execution_count": null,
   "metadata": {
    "id": "Iupmk2xUoW9U"
   },
   "outputs": [],
   "source": [
    "t,x = integrador_ode(Euler,f,x0,a,b,N,p)"
   ]
  },
  {
   "cell_type": "code",
   "execution_count": null,
   "metadata": {
    "colab": {
     "base_uri": "https://localhost:8080/",
     "height": 316
    },
    "executionInfo": {
     "elapsed": 470,
     "status": "ok",
     "timestamp": 1664160719638,
     "user": {
      "displayName": "ROBERTO RENZO JOEL D´PAULA",
      "userId": "10373003643603364177"
     },
     "user_tz": 180
    },
    "id": "hupiP8T9oXGy",
    "outputId": "b43959e0-b4ca-4b73-f469-a6060d6cb2da"
   },
   "outputs": [
    {
     "data": {
      "text/plain": [
       "<matplotlib.legend.Legend at 0x7ff6678e59d0>"
      ]
     },
     "execution_count": 307,
     "metadata": {},
     "output_type": "execute_result"
    },
    {
     "data": {
      "image/png": "[encoded data removed]",
      "text/plain": [
       "<Figure size 432x288 with 1 Axes>"
      ]
     },
     "metadata": {
      "needs_background": "light"
     },
     "output_type": "display_data"
    }
   ],
   "source": [
    "plt.xlabel('$t$')\n",
    "plt.ylabel('$x(t)$')\n",
    "#plt.xlim(-0.1,5.1)\n",
    "#plt.ylim(-0.1,1.1)\n",
    "plt.scatter(t,x[0],label=\"numérica\",linestyle='-',c='red')\n",
    "plt.plot(t,f_exacta(t,x0,p),label=\"exacta\",linestyle='-',c='blue')\n",
    "plt.title('Logística, Euler, $h=0.1$')\n",
    "plt.legend()"
   ]
  },
  {
   "cell_type": "code",
   "execution_count": null,
   "metadata": {
    "id": "drVNVzi9tMDi"
   },
   "outputs": [],
   "source": []
  },
  {
   "cell_type": "markdown",
   "metadata": {
    "id": "avaxswLISMWi"
   },
   "source": [
    "## **Ejercicio 6)** Oscilador armónico\n",
    "\n",
    "### Redución del orden de una ODE\n",
    "\n",
    "En general, una ODE tiene la siguiente forma\n",
    "\n",
    "\\begin{eqnarray}\n",
    "y^{(n)}(t) \n",
    "&=&\n",
    "f(y(t),y'(t),y''(t),...,y^{(n-1)}(t),t)\n",
    "\\;\\;\\;\\; (1)\n",
    "\\end{eqnarray}\n",
    "\n",
    "donde $y^{(i)}$ denota la $i$-ésima derivada de $y$ respecto a $t$.\n",
    "Dicha ODE es de dimensión $d$ si $x:\\mathbb{R}\\ni t\\to y(t)\\in \\mathbb{R}^d$.\n",
    "Además, se dice que es de orden $n$ porque involucra derivadas de $x$ de hasta orden $n$.\n",
    "\n",
    "Una ODE de orden $n$ y dimensión $d$ como la de la ecuación $(1)$ siempre puede reducirse a una ODE de primero orden y dimensión $nd$ utilizando la siguiente transformación\n",
    "\n",
    "\\begin{eqnarray}\n",
    "x_1:t\\to x_1(t) &:=& y(t) \\\\\n",
    "x_2:t\\to x_2(t) &:=& y'(t) \\\\\n",
    "x_3:t\\to x_3(t) &:=& y''(t) \\\\\n",
    "&...& \\\\\n",
    "x_n:t\\to x_n(t) &:=& y^{(n-1)}(t) \\\\\n",
    "x_n':t\\to x_n'(t) &=& y^{(n)}(t)\n",
    "\\end{eqnarray}\n",
    "\n",
    "de manera que la ecuación $(1)$ adopte la forma\n",
    "\n",
    "\\begin{eqnarray}\n",
    "x_{1}'(t) &=& x_2(t) \\\\\n",
    "x_{2}'(t) &=& x_3(t) \\\\\n",
    "&...& \\\\\n",
    "x_{n-1}'(t) &=& x_n(t) \\\\\n",
    "x_n'(t) &=& f(x_1(t),x_2(t),x_3(t),...,x_{n}(t),t)\n",
    "\\end{eqnarray}\n",
    "\n",
    "### El oscilador armónico\n",
    "\n",
    "El oscilador armónico viene descripto por la siguiente ecuación diferencial ordinaria (ODE)\n",
    "\n",
    "\\begin{eqnarray}\n",
    "y''(t) &=& -ay(t)\n",
    "\\end{eqnarray}\n",
    "\n",
    "Esta es una ODE de segundo orden, ya que aparece la derivada segunda de la función $x:t\\to x(t)$.\n",
    "La convertimos a una de primer orden definiendo $x_1=y$ y $x_2=y'$, obteniéndose\n",
    "\n",
    "\\begin{eqnarray}\n",
    "x_1'(t) &=& x_2(t) \\\\\n",
    "x_2'(t) &=& -\\alpha x_1(t)\n",
    "\\end{eqnarray}\n",
    "\n",
    "**a)** Utilice lo implementado en el ejecicio 2) para resolver en el intervalo de tiempo $[a,b]=[0,10]$ la ODE del oscilador armónico sujeto a las siguientes condiciones iniciales\n",
    "\n",
    "\\begin{eqnarray}\n",
    "x_1(a) &=& y(a) = 1 \\\\\n",
    "x_2(a) &=& y'(a) = 0\n",
    "\\end{eqnarray}\n",
    "\n",
    "para $\\alpha=3$ y usando un paso de integración $h=0.1$.\n",
    "\n",
    "**b)** Grafique $x_1(t)$ vs $t$ y $x_2(t)$ vs $t$. No olvide agregar leyendas a los ejes y las curvas.\n",
    "Use `np.scatter()` en vez de `np.plot()` para graficar usando puntos en vez de curvas.\n",
    "\n",
    "**c)** Grafique $x_2(t)$ vs $x_1(t)$ paramétricamente en función de $t$."
   ]
  },
  {
   "cell_type": "code",
   "execution_count": null,
   "metadata": {
    "id": "xAm0yWz3y62T"
   },
   "outputs": [],
   "source": [
    "# a)"
   ]
  },
  {
   "cell_type": "code",
   "execution_count": null,
   "metadata": {
    "colab": {
     "base_uri": "https://localhost:8080/"
    },
    "executionInfo": {
     "elapsed": 340,
     "status": "ok",
     "timestamp": 1664245568327,
     "user": {
      "displayName": "ROBERTO RENZO JOEL D´PAULA",
      "userId": "10373003643603364177"
     },
     "user_tz": 180
    },
    "id": "F9QLIG-_NX7H",
    "outputId": "b2065f65-fc43-4fe1-9e7d-b0abaa96f32a"
   },
   "outputs": [
    {
     "data": {
      "text/plain": [
       "100"
      ]
     },
     "execution_count": 49,
     "metadata": {},
     "output_type": "execute_result"
    }
   ],
   "source": [
    "def f(t,x,p):\n",
    "  return np.array([x[1],-p[0]*x[0]])           ### x'1(t) = x2(t)\n",
    "a = 0                                          ### x'2(t) = -p[0]*x1(t)\n",
    "b = 10\n",
    "x0 = [1.,0]\n",
    "h = 0.1          ### h=0,1\n",
    "N = int((b-a)/h)\n",
    "alfa = 3.\n",
    "p = np.array([alfa])\n",
    "N"
   ]
  },
  {
   "cell_type": "code",
   "execution_count": null,
   "metadata": {
    "id": "VkEeoZY-NX_c"
   },
   "outputs": [],
   "source": [
    "t,x = integrador_ode(Euler,f,x0,a,b,N,p)"
   ]
  },
  {
   "cell_type": "code",
   "execution_count": null,
   "metadata": {
    "colab": {
     "base_uri": "https://localhost:8080/"
    },
    "executionInfo": {
     "elapsed": 14,
     "status": "ok",
     "timestamp": 1664245571826,
     "user": {
      "displayName": "ROBERTO RENZO JOEL D´PAULA",
      "userId": "10373003643603364177"
     },
     "user_tz": 180
    },
    "id": "GXlgTZ87Q5B_",
    "outputId": "65713609-1e8e-4f2a-8ca6-4daf45acb809"
   },
   "outputs": [
    {
     "data": {
      "text/plain": [
       "(array([ 0. ,  0.1,  0.2,  0.3,  0.4,  0.5,  0.6,  0.7,  0.8,  0.9,  1. ,\n",
       "         1.1,  1.2,  1.3,  1.4,  1.5,  1.6,  1.7,  1.8,  1.9,  2. ,  2.1,\n",
       "         2.2,  2.3,  2.4,  2.5,  2.6,  2.7,  2.8,  2.9,  3. ,  3.1,  3.2,\n",
       "         3.3,  3.4,  3.5,  3.6,  3.7,  3.8,  3.9,  4. ,  4.1,  4.2,  4.3,\n",
       "         4.4,  4.5,  4.6,  4.7,  4.8,  4.9,  5. ,  5.1,  5.2,  5.3,  5.4,\n",
       "         5.5,  5.6,  5.7,  5.8,  5.9,  6. ,  6.1,  6.2,  6.3,  6.4,  6.5,\n",
       "         6.6,  6.7,  6.8,  6.9,  7. ,  7.1,  7.2,  7.3,  7.4,  7.5,  7.6,\n",
       "         7.7,  7.8,  7.9,  8. ,  8.1,  8.2,  8.3,  8.4,  8.5,  8.6,  8.7,\n",
       "         8.8,  8.9,  9. ,  9.1,  9.2,  9.3,  9.4,  9.5,  9.6,  9.7,  9.8,\n",
       "         9.9, 10. ]),\n",
       " array([[ 1.        ,  1.        ,  0.97      ,  0.91      ,  0.8209    ,\n",
       "          0.7045    ,  0.563473  ,  0.401311  ,  0.22224481,  0.03113929,\n",
       "         -0.16663357, -0.36534062, -0.55904865, -0.74179647, -0.90777283,\n",
       "         -1.05149529, -1.16798457, -1.25292899, -1.30283387, -1.31515089,\n",
       "         -1.28838288, -1.22216035, -1.11728634, -0.97574751, -0.80069009,\n",
       "         -0.59636025, -0.36800971, -0.12176835,  0.13551329,  0.39644798,\n",
       "          0.65331728,  0.89829314,  1.12366947,  1.32209702,  1.48681448,\n",
       "          1.61186903,  1.69231914,  1.72441318,  1.70573765,  1.63532973,\n",
       "          1.51374967,  1.34310973,  1.12705729,  0.87071156,  0.58055411,\n",
       "          0.26427532, -0.0694201 , -0.41104378, -0.75058485, -1.07779461,\n",
       "         -1.38248683, -1.65484521, -1.88572898, -2.06696739, -2.19163394,\n",
       "         -2.25429147, -2.25119997, -2.18047973, -2.0422235 , -1.83855287,\n",
       "         -1.57361554, -1.25352162, -0.88621923, -0.4813112 , -0.04981658,\n",
       "          0.39611736,  0.84354581,  1.27909073,  1.68932928,  2.06119511,\n",
       "          2.38238106,  2.64173115,  2.82960982,  2.93823655,  2.96197498,\n",
       "          2.89756632,  2.74429841,  2.50410351,  2.18157966,  1.7839327 ,\n",
       "          1.32083835,  0.80422602,  0.24798854, -0.33237572, -0.92017963,\n",
       "         -1.49801228, -2.04823953, -2.55352642, -2.99736612, -3.36460003,\n",
       "         -3.64191296, -3.81828788, -3.88540542, -3.83797431, -3.67398105,\n",
       "         -3.39484856, -3.00549663, -2.51429925, -1.93293697, -1.27614571,\n",
       "         -0.56136635],\n",
       "        [ 0.        , -0.3       , -0.6       , -0.891     , -1.164     ,\n",
       "         -1.41027   , -1.62162   , -1.7906619 , -1.9110552 , -1.97772864,\n",
       "         -1.98707043, -1.93708036, -1.82747817, -1.65976358, -1.43722464,\n",
       "         -1.16489279, -0.8494442 , -0.49904883, -0.12317013,  0.26768003,\n",
       "          0.6622253 ,  1.04874016,  1.41538827,  1.75057417,  2.04329842,\n",
       "          2.28350545,  2.46241353,  2.57281644,  2.60934694,  2.56869296,\n",
       "          2.44975856,  2.25376338,  1.98427544,  1.64717459,  1.25054549,\n",
       "          0.80450115,  0.32094044, -0.1867553 , -0.70407926, -1.21580055,\n",
       "         -1.70639947, -2.16052437, -2.56345729, -2.90157448, -3.16278795,\n",
       "         -3.33695418, -3.41623677, -3.39541074, -3.27209761, -3.04692215,\n",
       "         -2.72358377, -2.30883772, -1.81238416, -1.24666546, -0.62657525,\n",
       "          0.03091494,  0.70720238,  1.38256237,  2.03670629,  2.64937334,\n",
       "          3.2009392 ,  3.67302386,  4.04908034,  4.31494611,  4.45933947,\n",
       "          4.47428445,  4.35544924,  4.1023855 ,  3.71865828,  3.21185949,\n",
       "          2.59350096,  1.87878664,  1.0862673 ,  0.23738435, -0.64408661,\n",
       "         -1.53267911, -2.401949  , -3.22523853, -3.97646958, -4.63094348,\n",
       "         -5.16612329, -5.56237479, -5.8036426 , -5.87803916, -5.77832645,\n",
       "         -5.50227256, -5.05286887, -4.43839701, -3.67233909, -2.77312925,\n",
       "         -1.76374924, -0.67117535,  0.47431101,  1.63993263,  2.79132493,\n",
       "          3.89351924,  4.91197381,  5.8136228 ,  6.56791258,  7.14779367,\n",
       "          7.53063738]]))"
      ]
     },
     "execution_count": 51,
     "metadata": {},
     "output_type": "execute_result"
    }
   ],
   "source": [
    "t,x"
   ]
  },
  {
   "cell_type": "code",
   "execution_count": null,
   "metadata": {
    "id": "GOl6vsU8orqD"
   },
   "outputs": [],
   "source": [
    "# b)"
   ]
  },
  {
   "cell_type": "code",
   "execution_count": null,
   "metadata": {
    "colab": {
     "base_uri": "https://localhost:8080/",
     "height": 314
    },
    "executionInfo": {
     "elapsed": 505,
     "status": "ok",
     "timestamp": 1664245582509,
     "user": {
      "displayName": "ROBERTO RENZO JOEL D´PAULA",
      "userId": "10373003643603364177"
     },
     "user_tz": 180
    },
    "id": "9DnFju3oYuOm",
    "outputId": "1167142d-482d-49ba-871f-2217183c8286"
   },
   "outputs": [
    {
     "data": {
      "text/plain": [
       "<matplotlib.legend.Legend at 0x7f9472cc0050>"
      ]
     },
     "execution_count": 53,
     "metadata": {},
     "output_type": "execute_result"
    },
    {
     "data": {
      "image/png": "[encoded data removed]",
      "text/plain": [
       "<Figure size 432x288 with 1 Axes>"
      ]
     },
     "metadata": {
      "needs_background": "light"
     },
     "output_type": "display_data"
    }
   ],
   "source": [
    "plt.xlabel('$t$')\n",
    "plt.ylabel('$x(t)$')\n",
    "#plt.xlim(-0.1,5.1)\n",
    "#plt.ylim(-0.1,1.1)\n",
    "plt.scatter(t,x[0],label=\"$x_1(t)$\",linestyle='-',c='red')\n",
    "plt.scatter(t,x[1],label=\"$x_2(t)$\",linestyle='-',c='blue')\n",
    "#plt.plot(t,f_exacta(t,x0,p),label=\"exacta\",linestyle='-',c='blue')\n",
    "plt.title('Oscilador armónico, Euler')\n",
    "plt.legend()"
   ]
  },
  {
   "cell_type": "code",
   "execution_count": null,
   "metadata": {
    "id": "B9Ds7ZlmYzOu"
   },
   "outputs": [],
   "source": [
    "# c)"
   ]
  },
  {
   "cell_type": "code",
   "execution_count": null,
   "metadata": {
    "colab": {
     "base_uri": "https://localhost:8080/",
     "height": 316
    },
    "executionInfo": {
     "elapsed": 352,
     "status": "ok",
     "timestamp": 1664246117830,
     "user": {
      "displayName": "ROBERTO RENZO JOEL D´PAULA",
      "userId": "10373003643603364177"
     },
     "user_tz": 180
    },
    "id": "jsgXy13DpLXg",
    "outputId": "2e4407fd-3e59-40c0-cbfb-407702b8e024"
   },
   "outputs": [
    {
     "data": {
      "text/plain": [
       "<matplotlib.legend.Legend at 0x7f9472389150>"
      ]
     },
     "execution_count": 71,
     "metadata": {},
     "output_type": "execute_result"
    },
    {
     "data": {
      "image/png": "[encoded data removed]",
      "text/plain": [
       "<Figure size 432x288 with 1 Axes>"
      ]
     },
     "metadata": {
      "needs_background": "light"
     },
     "output_type": "display_data"
    }
   ],
   "source": [
    "plt.xlabel('$x_1(t)$')\n",
    "plt.ylabel('$x_2(t)$')\n",
    "#plt.xlim(-0.1,5.1)\n",
    "#plt.ylim(-0.1,1.1)\n",
    "plt.scatter(x[0,:],x[1,:],label=\"$x_1(t) vs x_2(x)$\",linestyle='-',c='purple')\n",
    "plt.title('Purple Rain')\n",
    "plt.legend()"
   ]
  },
  {
   "cell_type": "markdown",
   "metadata": {
    "id": "M1ijOC6_ILf-"
   },
   "source": [
    "## **Ejercicio 7)** Integrador de **RK4**\n",
    "\n",
    "El método de Runge-Kutta de orden 4 utiliza la teoría de diferencias finitas para calcular la siguiente aproximación de orden 4ta de un paso de integración\n",
    "\n",
    "A saber\n",
    "\\begin{eqnarray}\n",
    "x(t+h)\n",
    "&=&\n",
    "x(t) \n",
    "+ \n",
    "\\frac{h}{6}\n",
    "(k_1+2k_2+2k_3+k_4)\n",
    "+\n",
    "\\mathcal{O}(h^5)\n",
    "\\end{eqnarray}\n",
    "\n",
    "donde\n",
    "\n",
    "\\begin{eqnarray}\n",
    "k_1 &=& f(x,t) \\\\\n",
    "k_2 &=& f(x+hk_1/2,t+h/2) \\\\\n",
    "k_3 &=& f(x+hk_2/2,t+h/2) \\\\\n",
    "k_4 &=& f(x+hk_3,t+h)\n",
    "\\end{eqnarray}\n",
    "\n",
    "**a)** Implemente el método de RK4.\n",
    "\n",
    "**b)** Repita el ejercicio **6)** pero usando **RK4** en vez de **Euler**.\n",
    "\n",
    "**c)** Nota alguna diferencia al comparar la solución obtenida con Euler y la solución obtenida con RK4?"
   ]
  },
  {
   "cell_type": "code",
   "execution_count": 4,
   "metadata": {
    "executionInfo": {
     "elapsed": 21,
     "status": "ok",
     "timestamp": 1664291716509,
     "user": {
      "displayName": "ROBERTO RENZO JOEL D´PAULA",
      "userId": "10373003643603364177"
     },
     "user_tz": 180
    },
    "id": "e8xbCaeG0FnG"
   },
   "outputs": [],
   "source": [
    "def iteracion_ODE_multidimencional(Metodo,f,y0,a,b,N,p):\n",
    "    t = np.zeros(N+1)\n",
    "    w = np.zeros((len(y0),N+1))\n",
    "    h = (b-a)/(N)\n",
    "    t[0] = a\n",
    "    w[:,0] = y0\n",
    "    for i in range(1,N+1):\n",
    "        t[i] = t[i-1]+h\n",
    "        w[:,i] = Metodo(f,t[i-1],w[:,i-1],h,p)\n",
    "    return t[:],w[:,:]condición inicial x(0)=3 e integre hasta t=3. Utilice el paso de integración h=0.1 y los valores de los parámetros q=2 y r=3."
   ]
  },
  {
   "cell_type": "code",
   "execution_count": null,
   "metadata": {
    "id": "rtamDkDZy-lC"
   },
   "outputs": [],
   "source": [
    "# a)"
   ]
  },
  {
   "cell_type": "code",
   "execution_count": 5,
   "metadata": {
    "executionInfo": {
     "elapsed": 20,
     "status": "ok",
     "timestamp": 1664291716512,
     "user": {
      "displayName": "ROBERTO RENZO JOEL D´PAULA",
      "userId": "10373003643603364177"
     },
     "user_tz": 180
    },
    "id": "WU5yQyC9zrPE"
   },
   "outputs": [],
   "source": [
    "\"1er paso metodo Runge-Kutta 4\"\n",
    "def RK4(f,t0,y0,h,p):\n",
    "    k1 = f(t0, y0, p)\n",
    "    k2 = f(t0+h/2, y0+h/2*k1, p)\n",
    "    k3 = f(t0+h/2, y0+h/2*k2, p)\n",
    "    k4 = f(t0+h, y0+h*k3, p)\n",
    "    return y0 + (h/6)*(k1 + 2*k2 + 2*k3 + k4)      ### y0 + h/6(k1 + 2*k2 + 2*k3 + k4) No anda"
   ]
  },
  {
   "cell_type": "code",
   "execution_count": null,
   "metadata": {
    "id": "nOdqX_Qmzr0l"
   },
   "outputs": [],
   "source": [
    "# b)"
   ]
  },
  {
   "cell_type": "code",
   "execution_count": 6,
   "metadata": {
    "colab": {
     "base_uri": "https://localhost:8080/"
    },
    "executionInfo": {
     "elapsed": 465,
     "status": "ok",
     "timestamp": 1664293583121,
     "user": {
      "displayName": "ROBERTO RENZO JOEL D´PAULA",
      "userId": "10373003643603364177"
     },
     "user_tz": 180
    },
    "id": "NyHO6_4AztfM",
    "outputId": "c9f56478-29ac-4142-a2a0-f8326ddea7a1"
   },
   "outputs": [
    {
     "data": {
      "text/plain": [
       "100"
      ]
     },
     "execution_count": 6,
     "metadata": {},
     "output_type": "execute_result"
    }
   ],
   "source": [
    "def f(t,x,p):\n",
    "  return np.array([x[1],-p[0]*x[0]])           ### x'1(t) = x2(t)\n",
    "a = 0                                          ### x'2(t) = -p[0]*x1(t)\n",
    "b = 10\n",
    "x0 = [1.,0]\n",
    "h = 0.1          ### h=0,1\n",
    "N = int((b-a)/h)\n",
    "alfa = 3.\n",
    "p = np.array([alfa])\n",
    "N"
   ]
  },
  {
   "cell_type": "code",
   "execution_count": 7,
   "metadata": {
    "executionInfo": {
     "elapsed": 24,
     "status": "ok",
     "timestamp": 1664293584921,
     "user": {
      "displayName": "ROBERTO RENZO JOEL D´PAULA",
      "userId": "10373003643603364177"
     },
     "user_tz": 180
    },
    "id": "hPRV0PmL2qNs"
   },
   "outputs": [],
   "source": [
    "t,x = iteracion_ODE_multidimencional(RK4,f,x0,a,b,N,p)"
   ]
  },
  {
   "cell_type": "code",
   "execution_count": 8,
   "metadata": {
    "colab": {
     "base_uri": "https://localhost:8080/",
     "height": 314
    },
    "executionInfo": {
     "elapsed": 641,
     "status": "ok",
     "timestamp": 1664293586822,
     "user": {
      "displayName": "ROBERTO RENZO JOEL D´PAULA",
      "userId": "10373003643603364177"
     },
     "user_tz": 180
    },
    "id": "_l8DWmlK5uIv",
    "outputId": "c183d170-839b-460f-cca1-957937dc4776"
   },
   "outputs": [
    {
     "data": {
      "text/plain": [
       "<matplotlib.legend.Legend at 0x7f663c706750>"
      ]
     },
     "execution_count": 8,
     "metadata": {},
     "output_type": "execute_result"
    },
    {
     "data": {
      "image/png": "[encoded data removed]",
      "text/plain": [
       "<Figure size 432x288 with 1 Axes>"
      ]
     },
     "metadata": {
      "needs_background": "light"
     },
     "output_type": "display_data"
    }
   ],
   "source": [
    "plt.xlabel('$t$')\n",
    "plt.ylabel('$x(t)$')\n",
    "#plt.xlim(-0.1,5.1)\n",
    "#plt.ylim(-0.1,1.1)\n",
    "plt.scatter(t,x[0],label=\"$x_1(t)$\",linestyle='-',c='red')\n",
    "plt.scatter(t,x[1],label=\"$x_2(t)$\",linestyle='-',c='blue')\n",
    "#plt.plot(t,f_exacta(t,x0,p),label=\"exacta\",linestyle='-',c='blue')\n",
    "plt.title('Oscilador armónico, Euler')\n",
    "plt.legend()"
   ]
  },
  {
   "cell_type": "code",
   "execution_count": 11,
   "metadata": {
    "colab": {
     "base_uri": "https://localhost:8080/",
     "height": 316
    },
    "executionInfo": {
     "elapsed": 1082,
     "status": "ok",
     "timestamp": 1664293814574,
     "user": {
      "displayName": "ROBERTO RENZO JOEL D´PAULA",
      "userId": "10373003643603364177"
     },
     "user_tz": 180
    },
    "id": "vUNStOA-5uqC",
    "outputId": "418a9a1f-6f47-4c9b-fa51-4492ccabfd15"
   },
   "outputs": [
    {
     "data": {
      "text/plain": [
       "<matplotlib.legend.Legend at 0x7f663c04b690>"
      ]
     },
     "execution_count": 11,
     "metadata": {},
     "output_type": "execute_result"
    },
    {
     "data": {
      "image/png": "[encoded data removed]",
      "text/plain": [
       "<Figure size 432x288 with 1 Axes>"
      ]
     },
     "metadata": {
      "needs_background": "light"
     },
     "output_type": "display_data"
    }
   ],
   "source": [
    "plt.xlabel('$x_1(t)$')\n",
    "plt.ylabel('$x_2(t)$')\n",
    "#plt.xlim(-0.1,5.1)\n",
    "#plt.ylim(-0.1,1.1)\n",
    "plt.scatter(x[0,:],x[1,:],label=\"$x_1(t) vs x_2(x)$\",linestyle='-',c='purple')\n",
    "plt.title('Purple Rain')\n",
    "plt.legend()"
   ]
  },
  {
   "cell_type": "code",
   "execution_count": null,
   "metadata": {
    "id": "zYqa92Kvztt6"
   },
   "outputs": [],
   "source": [
    "# c)"
   ]
  },
  {
   "cell_type": "code",
   "execution_count": null,
   "metadata": {
    "id": "Qm2eMXt5zure"
   },
   "outputs": [],
   "source": [
    "# Con Euler se percibe la solucion como un coseno con una amplitud creciente con el tiempo\n",
    "#           se van sumando errores de integracion por cada iteracion\n",
    "# Con RK4 se percibe la solucion como un coseno"
   ]
  },
  {
   "cell_type": "markdown",
   "metadata": {
    "id": "6aJZWisYQUfg"
   },
   "source": [
    "## **Ejercicio 8)** Creando una \"libreria\" de integradores ODE\n",
    "\n",
    "**a)** Exporte el actual notebook `redes-neuronales-2022-practico-4.ipynb` a `ode.py`.\n",
    "\n",
    "**b)** Con su editor de texto favorito, elimine todo lo que sobra de `ode.py`. Deje, solamente, el código que:\n",
    "\n",
    "* importa `numpy`.\n",
    "\n",
    "* define la funcion `euler`.\n",
    "\n",
    "* define la funcion `rk4`.\n",
    "\n",
    "* define la funcion `integrador_ode`.\n",
    "\n",
    "**c)** En google colab, suba el archiv `ode.py` anteriormente credo.\n",
    "\n",
    "**d)** Importe la \"libreria\" `ode` escribiendo\n",
    "\n",
    "    import ode\n",
    "\n",
    "**e)** Pruebe la libreria `ode` escribiendo\n",
    "\n",
    "    t,x = ode.integrador_ode(ode.rk4,f,xa,a,b,k,p)"
   ]
  },
  {
   "cell_type": "code",
   "execution_count": 15,
   "metadata": {
    "executionInfo": {
     "elapsed": 10,
     "status": "ok",
     "timestamp": 1664296097911,
     "user": {
      "displayName": "ROBERTO RENZO JOEL D´PAULA",
      "userId": "10373003643603364177"
     },
     "user_tz": 180
    },
    "id": "QZAQO2hHxwvF"
   },
   "outputs": [],
   "source": [
    "# d)"
   ]
  },
  {
   "cell_type": "code",
   "execution_count": null,
   "metadata": {
    "id": "_prbORX1xxHd"
   },
   "outputs": [],
   "source": []
  }
 ],
 "metadata": {
  "colab": {
   "collapsed_sections": [],
   "provenance": []
  },
  "kernelspec": {
   "display_name": "Python 3 (ipykernel)",
   "language": "python",
   "name": "python3"
  },
  "language_info": {
   "codemirror_mode": {
    "name": "ipython",
    "version": 3
   },
   "file_extension": ".py",
   "mimetype": "text/x-python",
   "name": "python",
   "nbconvert_exporter": "python",
   "pygments_lexer": "ipython3",
   "version": "3.9.12"
  }
 },
 "nbformat": 4,
 "nbformat_minor": 1
}
