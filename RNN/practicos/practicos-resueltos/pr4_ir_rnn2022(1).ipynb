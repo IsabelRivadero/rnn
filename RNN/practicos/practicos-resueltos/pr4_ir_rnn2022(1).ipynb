{
 "cells": [
  {
   "cell_type": "markdown",
   "metadata": {
    "id": "NRYEofSD0xoF"
   },
   "source": [
    "# Integración numérica de ODEs\n",
    "\n",
    "En este práctico introduciremos los métodos de **Euler** y de **RK4** (Runge-Kutta de orden 4) de integración numérica de Ecuaciones Diferenciales Ordinarias (ODEs).\n",
    "\n",
    "## **Ejercicio 1)** Importando librerías\n",
    "\n",
    "Importe las librerías `numpy` para operar con arrays, `scipy` para utilizar rutinas de algebra lineal y `matplotlib.pyplot` para graficar."
   ]
  },
  {
   "cell_type": "code",
   "execution_count": null,
   "metadata": {
    "id": "I8N3D_nU1_oT"
   },
   "outputs": [],
   "source": [
    "import numpy as np \n",
    "import scipy as sp\n",
    "import scipy.linalg as linalg\n",
    "import matplotlib.pyplot as plt"
   ]
  },
  {
   "cell_type": "markdown",
   "metadata": {
    "id": "NcaGEHAd10sb"
   },
   "source": [
    "## **Ejercicio 2)** Integrador de **Euler**\n",
    "\n",
    "### Ecuaciones Diferenciales Ordinarias (ODEs)\n",
    "\n",
    "El comportamiento de un sistema dinámico se suele describir en términos de trayectorias. Una trayectoria es una función del tiempo \n",
    "\n",
    "\\begin{eqnarray}\n",
    "x:\\mathbb{R}\\ni t\\to x(t)\\in X\n",
    "\\end{eqnarray}\n",
    "\n",
    "en donde $x(t)\\in X$ representa el estado que exhibe el sistema al tiempo $t$ y $X$ es un espacio vectorial.\n",
    "Típicamente, $X=\\mathbb{R}^n$.\n",
    "\n",
    "Las trayectorias de un sistema dinámico suelen ser soluciones de una ecuación diferencial.\n",
    "Nosotros, nos enfocaremos en sistemas dinámicos caracterizados por Ecuaciones Diferenciales Ordinarias (ODEs).\n",
    "\n",
    "Decimos que una trayectoria $x:t\\to x(t)$ es su solución de una ODE caracterizada por una función \n",
    "\n",
    "\\begin{eqnarray}\n",
    "f: X,\\mathbb{R} \\ni x,t \\to f(x,t) \\in X\n",
    "\\end{eqnarray}\n",
    "\n",
    "cuando\n",
    "\n",
    "\\begin{eqnarray}\n",
    "x'(t) = f(x(t),t)\n",
    "\\end{eqnarray}\n",
    "\n",
    "para todo tiempo $t$ perteneciente a algún intervalo de tiempo $ T\\subseteq \\mathbb{R}$. Aquí, $x'(t)$ es la derivada con respecto al tiempo $t$ de la función $x:t\\to x(t)$ que representa la trayectoria.\n",
    "\n",
    "En una ODE, una trayectoria particular $x$ queda unívocamente determinada por el valor de $x(t)$ en algún tiempo específico. Típicamente, se considera una *condición incial* $x(a)$, y nos interesa computar el valor de $x(t)$ para todo $t\\in [a,b]$, i.e. conocer la trayectoria para todo tiempo entre un tiempo incial $a$ y un tiempo final $b$.\n",
    "\n",
    "### Métodos de integración numérica de ODEs\n",
    "\n",
    "Los métodos de integración de sistemas de Ecuaciones Diferenciales Ordinarias (ODEs) consisten, básicamente, de dos partes.\n",
    "\n",
    "* Un método de extrapolación que permita aproximar **un paso de integración**, i.e. aproximar $x(t+h)$ a partir de conocer $t$, $x(t)$ y $f$ para valores de $h\\in \\mathbb{R}$ suficientementes pequeños.\n",
    "\n",
    "* Un **integrador** de sucesivas aproximaciones $w_0$, $w_1$, ..., $w_k$ de los valores $x(a)$, $x(a+h)$, $x(a+2h)$, ..., $x(a+kh)=x(b)$ computadas secuencialmente a partir de un valor incial $w_0=x(a)$.\n",
    "\n",
    "Existen varios métodos de aproximar un paso de integración.\n",
    "En cambio, el integrador suele ser común a los diferentes métodos.\n",
    "\n",
    "### Método de Euler\n",
    "\n",
    "El método de Euler es, quizás, el más simple que existe.\n",
    "Esencialmente, consiste en aproximar de $x(t+h)$ utilizando $f(x,t)$ para calcular la extrapolación lineal \n",
    "\n",
    "\\begin{eqnarray}\n",
    "x(t+h) \n",
    "&=& \n",
    "x(t) + x'(t)h + x''(t)\\frac{h^2}{2} + ...\n",
    "\\\\\n",
    "&\\approx & \n",
    "x(t) + x'(t)h\n",
    "\\\\\n",
    "&=&\n",
    "x(t) + f(x(t),t)h\n",
    "\\end{eqnarray}\n",
    "\n",
    "para un valor de $h$ que sea relativamente pequeño.\n",
    "\n",
    "### Integrador\n",
    "\n",
    "Si $t_0,t_1,...,t_n$ son valores equiespaciados en el intervalo de tiempo $[a,b]$, entonces $t_j=a+jh$ para $j\\in \\{0,1,2,...,n\\}$ con $t_n=b$ y $h=(b-a)/n$.\n",
    "Luego, utilizando el método $m$ proveido por el usuario, se computan sucesivamente las aproximaciones\n",
    "\n",
    "\\begin{eqnarray}\n",
    "w_{j} &=& m(f,w_{j-1},t_{j-1},h)\n",
    "\\end{eqnarray}\n",
    "\n",
    "de los valores $x(t+jh)$ para $j=1,...,n$, partiendo de la condición inicial $w_0=x(t_0)=x(a)$.\n",
    "\n",
    "Por ejemplo, si el método proveido es el de Euler, las aproximaciones adoptan la forma\n",
    "\n",
    "\\begin{eqnarray}\n",
    "w_{j} &=& w_{j-1} + f(w_{j-1},t_{j-1})h\n",
    "\\end{eqnarray}\n",
    "\n",
    "**a)** Implemente una función de Python llamada `euler` que compute un paso de integración según el método de **Euler**. \n",
    "Dicha función debe tomar como argumentos:\n",
    "\n",
    "* La función $f:\\mathbb{R}^n,\\mathbb{R} \\to \\mathbb{R}^n$ que caracterize el lado derecho de la ODE.\n",
    "\n",
    "* Un valor de $x \\in \\mathbb{R}^n$.\n",
    "\n",
    "* Un valor de $t \\in \\mathbb{R}$.\n",
    "\n",
    "* El paso de integración $h \\in \\mathbb{R}$.\n",
    "\n",
    "* Un vector de parámetros $p \\in \\mathbb{R}^m$.\n",
    "\n",
    "La función  `euler` debe retornar el lado derecho de la aproximación $x(t+h)\\approx x(t) + f(x(t),t)h$.\n",
    "\n",
    "**b)** Implemente una función de Python llamada `integrador_ode` que integre el cómputo de sucesivos pasos de integración.\n",
    "Dicha función debe tomar como argumentos:\n",
    "\n",
    "* Una función `m` que aproxime el paso de integración (ej. `euler`).\n",
    "\n",
    "* La función $f:\\mathbb{R}^n,\\mathbb{R} \\to \\mathbb{R}^n$.\n",
    "\n",
    "* La condición inicial $x_0=x(a)\\in \\mathbb{R}^n$.\n",
    "\n",
    "* El tiempo inciial $a\\in \\mathbb{R}$.\n",
    "\n",
    "* El tiempo final $b\\in \\mathbb{R}$.\n",
    "\n",
    "* El número $k\\in \\mathbb{N}$ de pasos de integración.\n",
    "\n",
    "* Un vector de parámetros $p \\in \\mathbb{R}^m$.\n",
    "\n",
    "* Y, opcionalmente, una *función condicionante* \n",
    "\\begin{eqnarray}\n",
    "c:\\mathbb{R}^n,\\mathbb{R},\\mathbb{R}^m\\ni x(t),t,p \\to c(x(t),t,p)\\in \\mathbb{R}^n\n",
    "\\end{eqnarray}\n",
    "que permita intervenir en el cómputo de la trayectoria cuando se desee.\n",
    "Veremos más adelante para que sirve esta función condicionante."
   ]
  },
  {
   "cell_type": "markdown",
   "metadata": {
    "id": "44JzY1YxyJmO"
   },
   "source": [
    "a) Implemente una función de Python llamada euler que compute un paso de integración según el método de Euler. Dicha función debe tomar como argumentos:\n",
    "\n",
    "    La función f:Rn,R→Rn que caracterize el lado derecho de la ODE.\n",
    "\n",
    "    Un valor de x∈Rn.\n",
    "\n",
    "    Un valor de t∈R.\n",
    "\n",
    "    El paso de integración h∈R.\n",
    "\n",
    "    Un vector de parámetros p∈Rm.\n",
    "\n",
    "La función euler debe retornar el lado derecho de la aproximación x(t+h)≈x(t)+f(x(t),t)h."
   ]
  },
  {
   "cell_type": "code",
   "execution_count": null,
   "metadata": {
    "id": "lAQH_ORcAgqh"
   },
   "outputs": [],
   "source": [
    "def Euler(f, x0, t0, h, p): #p un parametro constatent u opcional\n",
    "    \"\"\"\n",
    "    Calcula un paso de integración del método de Euler.\n",
    "    \n",
    "    Argumentos de entrada:\n",
    "    \n",
    "        f : R^n,R -> R^n\n",
    "        x = x(t) : R^n\n",
    "        t = tiempo : R\n",
    "        h = paso de tiempo : R\n",
    "        p = parametros : R^q        \n",
    "        \n",
    "    Retorna aproximacion numérica de\n",
    "    \n",
    "        x(t+h) : R^n\n",
    "\n",
    "    según el método de Euler.\n",
    "    \"\"\" \n",
    "    \n",
    "    return x0 + h*f(x0, t0, p)"
   ]
  },
  {
   "cell_type": "code",
   "execution_count": null,
   "metadata": {
    "id": "jugsLJlZ6i8w"
   },
   "outputs": [],
   "source": [
    "def f(x, t0, p):\n",
    "  return np.cos(x)"
   ]
  },
  {
   "cell_type": "code",
   "execution_count": null,
   "metadata": {
    "colab": {
     "base_uri": "https://localhost:8080/"
    },
    "id": "jJjvaSSa61M_",
    "outputId": "5bd6303f-9292-40f3-eebf-ef3ff35e95c6"
   },
   "outputs": [
    {
     "data": {
      "text/plain": [
       "-1.0"
      ]
     },
     "execution_count": 4,
     "metadata": {},
     "output_type": "execute_result"
    }
   ],
   "source": [
    "f(np.pi, 0, 1)"
   ]
  },
  {
   "cell_type": "code",
   "execution_count": null,
   "metadata": {
    "colab": {
     "base_uri": "https://localhost:8080/"
    },
    "id": "Y_hLaeCd6OQ7",
    "outputId": "253090fd-9566-499d-85db-94019090214f"
   },
   "outputs": [
    {
     "data": {
      "text/plain": [
       "2.941592653589793"
      ]
     },
     "execution_count": 5,
     "metadata": {},
     "output_type": "execute_result"
    }
   ],
   "source": [
    "Eu= Euler(f, np.pi, 0, 0.2, 3)\n",
    "Eu"
   ]
  },
  {
   "cell_type": "markdown",
   "metadata": {
    "id": "hcNqgzaoyRHO"
   },
   "source": [
    "b) Implemente una función de Python llamada integrador_ode que integre el cómputo de sucesivos pasos de integración. Dicha función debe tomar como argumentos:\n",
    "\n",
    "    Una función m que aproxime el paso de integración (ej. euler).\n",
    "\n",
    "    La función f:Rn,R→Rn.\n",
    "\n",
    "    La condición inicial x0=x(a)∈Rn.\n",
    "\n",
    "    El tiempo inciial a∈R.\n",
    "\n",
    "    El tiempo final b∈R.\n",
    "\n",
    "    El número k∈N de pasos de integración.\n",
    "\n",
    "    Un vector de parámetros p∈Rm.\n",
    "\n",
    "    Y, opcionalmente, una función condicionante\n",
    "    c:Rn,R,Rm∋x(t),t,p→c(x(t),t,p)∈Rn\n",
    "    que permita intervenir en el cómputo de la trayectoria cuando se desee. Veremos más adelante para que sirve esta función condicionante.\n"
   ]
  },
  {
   "cell_type": "code",
   "execution_count": null,
   "metadata": {
    "id": "Okm6ODy2fybx"
   },
   "outputs": [],
   "source": [
    "# b) Integrador version Robert\n",
    "def iteracion_ODE(Euler,f,x0,a,b,N,p):\n",
    "    t = np.zeros(N+1)\n",
    "    w = np.zeros(N+1)\n",
    "    h = (b-a)/(N)\n",
    "    t[0] = a\n",
    "    w[0] = x0\n",
    "    for i in range(1,N+1):\n",
    "        t[i] = t[i-1]+h\n",
    "        w[i] = Euler(f,w[i-1],t[i-1],h,p)\n",
    "    return t[:],w[:]"
   ]
  },
  {
   "cell_type": "code",
   "execution_count": null,
   "metadata": {
    "id": "amK5T3rZytyJ"
   },
   "outputs": [],
   "source": [
    "# 2.b)\n",
    "def integrador_ode(m,f,xa,a,b,k,p):  #, c=lambda x,t,p:x):\n",
    "    \"\"\"\n",
    "    Integra numéricamente la ODE\n",
    "    \n",
    "        dx/dt = f(x,t)\n",
    "        \n",
    "    sobre el intervalo t:[a,b] usando k pasos de integración y el método m, bajo condicion inicial x(a)=x0.\n",
    "    No es necesario que a<b.\n",
    "    \n",
    "    Argumentos de entrada:\n",
    "    \n",
    "        m = metodo de integracion (ej. euler, rk2, etc.)\n",
    "        f : R^n -> R^n\n",
    "        xa = condicion inicial : R\n",
    "        a = tiempo inicial : R\n",
    "        b = tiempo final : R\n",
    "        k = num. pasos de integracion : N\n",
    "        p = parametros : R^q\n",
    "        c = función condicionante : R^n,R,p -> R^n\n",
    "    \n",
    "    Retorna:\n",
    "    \n",
    "        t : R^{k+1} , t_j = a+j*h para j=0,1,...,k\n",
    "        w : R^{n,k+1} , w_ij = x_i(t_j) para i=0,1,...,n-1 y j=0,1,...,k\n",
    "        \n",
    "    donde a+k*dt = b.\n",
    "    \"\"\"  \n",
    "    assert k>0\n",
    "    n = len(xa)\n",
    "    h = (b-a)/k\n",
    "    w = np.zeros((n,k+1)) # Produce un array con forma y tipo especificada con los parametros, \n",
    "                          # lleno de ceros. la forma puede ser espcificada con un entero o tupla (n,k+1)    \n",
    "    t = np.zeros(k+1)\n",
    "    w[:,0] = xa           # actualiza la posicion inicial (columna de indice 0) de las variables con los valores \n",
    "                          # de las condiciones iniciales\n",
    "    t[0] = a              # actualiza la posicion cero con el valor del tiempo inicial\n",
    "    \n",
    "    for j in range(k):    #Aca se produce la iteración en j \n",
    "        \n",
    "        t[j+1] = t[j] + h                # iteracion tiempo \n",
    "        w[:,j+1] = m(f,w[:,j],t[j],h,p)  # iteracion de w \n",
    "        #w[:,j+1] = c(w[:,j+1],t[j+1],p)  # condicion sobre w\n",
    "\n",
    "    return t,w"
   ]
  },
  {
   "cell_type": "code",
   "execution_count": null,
   "metadata": {
    "id": "SIjdpDECDUlB"
   },
   "outputs": [],
   "source": [
    "def f(t,y,p):\n",
    "  return -y+np.sin(2*np.pi*t)\n",
    "a = 0\n",
    "b = 1\n",
    "x0 = [1.0]\n",
    "N = 10          ### h=0,1\n",
    "p = 0"
   ]
  },
  {
   "cell_type": "code",
   "execution_count": null,
   "metadata": {
    "colab": {
     "base_uri": "https://localhost:8080/"
    },
    "id": "mkxTmbbDB2Ra",
    "outputId": "09455f7d-9924-422c-bcbd-8555d21cd97c"
   },
   "outputs": [
    {
     "data": {
      "text/plain": [
       "(array([0.        , 0.14285714, 0.28571429, 0.42857143, 0.57142857,\n",
       "        0.71428571, 0.85714286, 1.        ]),\n",
       " array([[1.        , 1.        , 0.97959184, 0.92050734, 0.79086031,\n",
       "         0.5710527 , 0.40733263, 0.363441  ]]))"
      ]
     },
     "execution_count": 19,
     "metadata": {},
     "output_type": "execute_result"
    }
   ],
   "source": [
    "tiempos, posic= integrador_ode(Euler, f, x0, a, b, 7, p)\n",
    "tiempos, posic"
   ]
  },
  {
   "cell_type": "code",
   "execution_count": null,
   "metadata": {
    "id": "ygOSD7_nMVAE"
   },
   "outputs": [],
   "source": [
    "import matplotlib.pyplot as plt"
   ]
  },
  {
   "cell_type": "code",
   "execution_count": null,
   "metadata": {
    "colab": {
     "base_uri": "https://localhost:8080/"
    },
    "id": "sstCJDVLMjyq",
    "outputId": "69bb5b30-2bda-4899-b4bb-fe9e2a7d0e5b"
   },
   "outputs": [
    {
     "data": {
      "text/plain": [
       "array([1.        , 1.        , 0.97959184, 0.92050734, 0.79086031,\n",
       "       0.5710527 , 0.40733263, 0.363441  ])"
      ]
     },
     "execution_count": 21,
     "metadata": {},
     "output_type": "execute_result"
    }
   ],
   "source": [
    "posic[0]"
   ]
  },
  {
   "cell_type": "code",
   "execution_count": null,
   "metadata": {
    "colab": {
     "base_uri": "https://localhost:8080/",
     "height": 295
    },
    "id": "yFRhLjn9FNtO",
    "outputId": "5a2e43f9-5fda-4acc-983b-5c7065983db9"
   },
   "outputs": [
    {
     "data": {
      "image/png": "[encoded data removed]",
      "text/plain": [
       "<Figure size 432x288 with 1 Axes>"
      ]
     },
     "metadata": {
      "needs_background": "light"
     },
     "output_type": "display_data"
    }
   ],
   "source": [
    "plt.plot(tiempos, posic[0])\n",
    "plt.xlabel('tiempos')\n",
    "plt.ylabel('posic')\n",
    "plt.title('Lab DLS')\n",
    "plt.show()\n"
   ]
  },
  {
   "cell_type": "markdown",
   "metadata": {
    "id": "yBKvIBvmr3Wb"
   },
   "source": [
    "## **Ejercicio 3)** Crecimiento exponencial\n",
    "\n",
    "Considere la ODE\n",
    "\n",
    "\\begin{eqnarray}\n",
    "x'(t)\n",
    "&=&\n",
    "qx(t)\n",
    "\\end{eqnarray}\n",
    "\n",
    "donde $q$ es una constante positiva.\n",
    "\n",
    "**a)** Utilice el integrador ODE implementado en el ejercicio 2) para integrar la ODE arriba definida, a partir de la condición inicial $x(t=0)=1$ hasta el tiempo $t=3$, y para $q=1$. Utilice el paso de integración $h=0.1$.\n",
    "\n",
    "**b)** Grafique la solución numérica computada en el inciso anterior. Incluya en el gráfico la solución exacta que se deriva a continuación\n",
    "\n",
    "\\begin{eqnarray}\n",
    "x'(t)\n",
    "&=&\n",
    "qx(t)\n",
    "\\\\\n",
    "\\frac{dx}{dt}\n",
    "&=&\n",
    "qx\n",
    "\\\\\n",
    "\\frac{dx}{x}\n",
    "&=&\n",
    "qdt\n",
    "\\\\\n",
    "\\int_{x(0)}^{x(\\tau)}\n",
    "\\frac{dx}{x}\n",
    "&=&\n",
    "q\n",
    "\\int_0^{\\tau} dt\n",
    "\\\\\n",
    "\\ln(x(\\tau))-\\ln(x(0))\n",
    "&=&\n",
    "q\\tau\n",
    "\\\\\n",
    "\\ln(x(t))\n",
    "&=&\n",
    "qt\n",
    "+\n",
    "\\ln(x(0))\n",
    "\\\\\n",
    "x(t)\n",
    "&=&\n",
    "e^{\n",
    "qt\n",
    "+\n",
    "\\ln(x(0))\n",
    "}\n",
    "\\\\\n",
    "x(t)\n",
    "&=&\n",
    "e^{\\ln(x(0))}\n",
    "e^{qt}\n",
    "\\\\\n",
    "x(t)\n",
    "&=&\n",
    "x(0)\n",
    "e^{qt}\n",
    "\\end{eqnarray}\n",
    "\n",
    "**c)** Repita para $h=0.01$."
   ]
  },
  {
   "cell_type": "code",
   "execution_count": null,
   "metadata": {
    "id": "CV0t4_Jym2c_"
   },
   "outputs": [],
   "source": [
    "# a) Utilice el integrador ODE implementado en el ejercicio 2) para integrar la ODE arriba definida, a partir de la \n",
    "# condición inicial x(t=0)=1 hasta t=3\n",
    "# q=1\n",
    "# paso de integración h=0.1\n",
    "def f(x,t,p): #x′(t)=qx(t)---> f es lo que esta a la derecha del problema\n",
    "    \"\"\"\n",
    "    q = p[0]\n",
    "    \"\"\"\n",
    "    return p[0]*np.array(x[0])"
   ]
  },
  {
   "cell_type": "code",
   "execution_count": null,
   "metadata": {
    "id": "RYR8N13km2QN"
   },
   "outputs": [],
   "source": [
    "# condición inicial x(t=0)=1 hasta t=3\n",
    "# q=1\n",
    "# paso de integración h=0.1\n",
    "a=0\n",
    "b=3\n",
    "h=0.1\n",
    "k = int((b-a)/h)#+1\n",
    "xa = np.array([1]) # x(a)=x(0)=1\n",
    "p = np.array([1])"
   ]
  },
  {
   "cell_type": "code",
   "execution_count": null,
   "metadata": {
    "id": "bw8CoeiAywQ5"
   },
   "outputs": [],
   "source": [
    "t,w = integrador_ode(Euler,f,xa,a,b,k,p)"
   ]
  },
  {
   "cell_type": "code",
   "execution_count": null,
   "metadata": {
    "colab": {
     "base_uri": "https://localhost:8080/",
     "height": 316
    },
    "id": "y5g7lAwSuo1c",
    "outputId": "05d3eaf0-493e-4550-9fce-1b608c721c21"
   },
   "outputs": [
    {
     "data": {
      "text/plain": [
       "<matplotlib.legend.Legend at 0x7faaa3bde1d0>"
      ]
     },
     "execution_count": 29,
     "metadata": {},
     "output_type": "execute_result"
    },
    {
     "data": {
      "image/png": "[encoded data removed]",
      "text/plain": [
       "<Figure size 432x288 with 1 Axes>"
      ]
     },
     "metadata": {
      "needs_background": "light"
     },
     "output_type": "display_data"
    }
   ],
   "source": [
    "# 3.b)\n",
    "plt.xlabel('$t$')\n",
    "plt.ylabel('$x(t)$')\n",
    "#plt.xlim(-0.1,5.1)\n",
    "#plt.ylim(-0.1,1.1)\n",
    "plt.scatter(t,w[0,:],label=\"numérica\",linestyle='-',c='red')\n",
    "plt.plot(t,np.exp(p[0]*t),label=\"exacta\",linestyle='-',c='blue') #exacta\n",
    "plt.title('Crecimiento exponencial, Euler, $h=0.1$')\n",
    "plt.legend()"
   ]
  },
  {
   "cell_type": "code",
   "execution_count": null,
   "metadata": {
    "id": "GsZwFnLhvSQc"
   },
   "outputs": [],
   "source": [
    "#c) Repita para h=0.01.\n",
    "a=0\n",
    "b=3\n",
    "h=0.01\n",
    "k = int((b-a)/h)+ 1 #agrega +1\n",
    "xa = np.array([1]) # x(a)=x(0)=1\n",
    "p = np.array([1])"
   ]
  },
  {
   "cell_type": "code",
   "execution_count": null,
   "metadata": {
    "colab": {
     "base_uri": "https://localhost:8080/"
    },
    "id": "1IOmzprbvSEc",
    "outputId": "7e14c828-c62a-4b07-b49a-58af957274f9"
   },
   "outputs": [
    {
     "data": {
      "text/plain": [
       "(array([0.        , 0.00996678, 0.01993355, 0.02990033, 0.03986711,\n",
       "        0.04983389, 0.05980066, 0.06976744, 0.07973422, 0.089701  ,\n",
       "        0.09966777, 0.10963455, 0.11960133, 0.12956811, 0.13953488,\n",
       "        0.14950166, 0.15946844, 0.16943522, 0.17940199, 0.18936877,\n",
       "        0.19933555, 0.20930233, 0.2192691 , 0.22923588, 0.23920266,\n",
       "        0.24916944, 0.25913621, 0.26910299, 0.27906977, 0.28903654,\n",
       "        0.29900332, 0.3089701 , 0.31893688, 0.32890365, 0.33887043,\n",
       "        0.34883721, 0.35880399, 0.36877076, 0.37873754, 0.38870432,\n",
       "        0.3986711 , 0.40863787, 0.41860465, 0.42857143, 0.43853821,\n",
       "        0.44850498, 0.45847176, 0.46843854, 0.47840532, 0.48837209,\n",
       "        0.49833887, 0.50830565, 0.51827243, 0.5282392 , 0.53820598,\n",
       "        0.54817276, 0.55813953, 0.56810631, 0.57807309, 0.58803987,\n",
       "        0.59800664, 0.60797342, 0.6179402 , 0.62790698, 0.63787375,\n",
       "        0.64784053, 0.65780731, 0.66777409, 0.67774086, 0.68770764,\n",
       "        0.69767442, 0.7076412 , 0.71760797, 0.72757475, 0.73754153,\n",
       "        0.74750831, 0.75747508, 0.76744186, 0.77740864, 0.78737542,\n",
       "        0.79734219, 0.80730897, 0.81727575, 0.82724252, 0.8372093 ,\n",
       "        0.84717608, 0.85714286, 0.86710963, 0.87707641, 0.88704319,\n",
       "        0.89700997, 0.90697674, 0.91694352, 0.9269103 , 0.93687708,\n",
       "        0.94684385, 0.95681063, 0.96677741, 0.97674419, 0.98671096,\n",
       "        0.99667774, 1.00664452, 1.0166113 , 1.02657807, 1.03654485,\n",
       "        1.04651163, 1.05647841, 1.06644518, 1.07641196, 1.08637874,\n",
       "        1.09634551, 1.10631229, 1.11627907, 1.12624585, 1.13621262,\n",
       "        1.1461794 , 1.15614618, 1.16611296, 1.17607973, 1.18604651,\n",
       "        1.19601329, 1.20598007, 1.21594684, 1.22591362, 1.2358804 ,\n",
       "        1.24584718, 1.25581395, 1.26578073, 1.27574751, 1.28571429,\n",
       "        1.29568106, 1.30564784, 1.31561462, 1.3255814 , 1.33554817,\n",
       "        1.34551495, 1.35548173, 1.3654485 , 1.37541528, 1.38538206,\n",
       "        1.39534884, 1.40531561, 1.41528239, 1.42524917, 1.43521595,\n",
       "        1.44518272, 1.4551495 , 1.46511628, 1.47508306, 1.48504983,\n",
       "        1.49501661, 1.50498339, 1.51495017, 1.52491694, 1.53488372,\n",
       "        1.5448505 , 1.55481728, 1.56478405, 1.57475083, 1.58471761,\n",
       "        1.59468439, 1.60465116, 1.61461794, 1.62458472, 1.6345515 ,\n",
       "        1.64451827, 1.65448505, 1.66445183, 1.6744186 , 1.68438538,\n",
       "        1.69435216, 1.70431894, 1.71428571, 1.72425249, 1.73421927,\n",
       "        1.74418605, 1.75415282, 1.7641196 , 1.77408638, 1.78405316,\n",
       "        1.79401993, 1.80398671, 1.81395349, 1.82392027, 1.83388704,\n",
       "        1.84385382, 1.8538206 , 1.86378738, 1.87375415, 1.88372093,\n",
       "        1.89368771, 1.90365449, 1.91362126, 1.92358804, 1.93355482,\n",
       "        1.94352159, 1.95348837, 1.96345515, 1.97342193, 1.9833887 ,\n",
       "        1.99335548, 2.00332226, 2.01328904, 2.02325581, 2.03322259,\n",
       "        2.04318937, 2.05315615, 2.06312292, 2.0730897 , 2.08305648,\n",
       "        2.09302326, 2.10299003, 2.11295681, 2.12292359, 2.13289037,\n",
       "        2.14285714, 2.15282392, 2.1627907 , 2.17275748, 2.18272425,\n",
       "        2.19269103, 2.20265781, 2.21262458, 2.22259136, 2.23255814,\n",
       "        2.24252492, 2.25249169, 2.26245847, 2.27242525, 2.28239203,\n",
       "        2.2923588 , 2.30232558, 2.31229236, 2.32225914, 2.33222591,\n",
       "        2.34219269, 2.35215947, 2.36212625, 2.37209302, 2.3820598 ,\n",
       "        2.39202658, 2.40199336, 2.41196013, 2.42192691, 2.43189369,\n",
       "        2.44186047, 2.45182724, 2.46179402, 2.4717608 , 2.48172757,\n",
       "        2.49169435, 2.50166113, 2.51162791, 2.52159468, 2.53156146,\n",
       "        2.54152824, 2.55149502, 2.56146179, 2.57142857, 2.58139535,\n",
       "        2.59136213, 2.6013289 , 2.61129568, 2.62126246, 2.63122924,\n",
       "        2.64119601, 2.65116279, 2.66112957, 2.67109635, 2.68106312,\n",
       "        2.6910299 , 2.70099668, 2.71096346, 2.72093023, 2.73089701,\n",
       "        2.74086379, 2.75083056, 2.76079734, 2.77076412, 2.7807309 ,\n",
       "        2.79069767, 2.80066445, 2.81063123, 2.82059801, 2.83056478,\n",
       "        2.84053156, 2.85049834, 2.86046512, 2.87043189, 2.88039867,\n",
       "        2.89036545, 2.90033223, 2.910299  , 2.92026578, 2.93023256,\n",
       "        2.94019934, 2.95016611, 2.96013289, 2.97009967, 2.98006645,\n",
       "        2.99003322, 3.        ]),\n",
       " array([[ 1.        ,  1.00996678,  1.02003289,  1.03019933,  1.0404671 ,\n",
       "          1.0508372 ,  1.06131066,  1.07188851,  1.08257179,  1.09336154,\n",
       "          1.10425883,  1.11526473,  1.12638033,  1.13760671,  1.14894498,\n",
       "          1.16039626,  1.17196167,  1.18364235,  1.19543945,  1.20735413,\n",
       "          1.21938756,  1.23154092,  1.24381542,  1.25621225,  1.26873264,\n",
       "          1.28137781,  1.29414902,  1.30704752,  1.32007457,  1.33323146,\n",
       "          1.34651948,  1.35993994,  1.37349416,  1.38718347,  1.40100922,\n",
       "          1.41497276,  1.42907548,  1.44331876,  1.457704  ,  1.47223261,\n",
       "          1.48690602,  1.50172568,  1.51669305,  1.53180959,  1.5470768 ,\n",
       "          1.56249617,  1.57806922,  1.59379748,  1.60968251,  1.62572586,\n",
       "          1.6419291 ,  1.65829384,  1.67482169,  1.69151427,  1.70837321,\n",
       "          1.72540019,  1.74259687,  1.75996494,  1.77750612,  1.79522213,\n",
       "          1.81311471,  1.83118562,  1.84943664,  1.86786956,  1.8864862 ,\n",
       "          1.90528839,  1.92427797,  1.94345683,  1.96282683,  1.98238988,\n",
       "          2.00214792,  2.02210289,  2.04225674,  2.06261145,  2.08316904,\n",
       "          2.10393153,  2.12490094,  2.14607936,  2.16746885,  2.18907153,\n",
       "          2.21088952,  2.23292496,  2.25518003,  2.27765691,  2.30035781,\n",
       "          2.32328496,  2.34644063,  2.36982708,  2.39344662,  2.41730157,\n",
       "          2.44139427,  2.46572711,  2.49030246,  2.51512275,  2.54019042,\n",
       "          2.56550793,  2.59107778,  2.61690247,  2.64298456,  2.6693266 ,\n",
       "          2.69593118,  2.72280093,  2.74993848,  2.7773465 ,  2.80502769,\n",
       "          2.83298478,  2.86122051,  2.88973766,  2.91853903,  2.94762746,\n",
       "          2.97700581,  3.00667696,  3.03664384,  3.06690939,  3.0974766 ,\n",
       "          3.12834846,  3.15952801,  3.19101832,  3.22282249,  3.25494365,\n",
       "          3.28738494,  3.32014958,  3.35324077,  3.38666177,  3.42041588,\n",
       "          3.4545064 ,  3.4889367 ,  3.52371015,  3.55883019,  3.59430026,\n",
       "          3.63012385,  3.66630448,  3.70284572,  3.73975116,  3.77702443,\n",
       "          3.81466919,  3.85268915,  3.89108805,  3.92986966,  3.96903779,\n",
       "          4.00859631,  4.04854909,  4.08890008,  4.12965324,  4.17081257,\n",
       "          4.21238213,  4.25436601,  4.29676833,  4.33959326,  4.38284502,\n",
       "          4.42652786,  4.47064608,  4.51520402,  4.56020605,  4.60565661,\n",
       "          4.65156016,  4.69792123,  4.74474436,  4.79203417,  4.83979531,\n",
       "          4.88803247,  4.9367504 ,  4.9859539 ,  5.03564779,  5.08583697,\n",
       "          5.13652637,  5.18772099,  5.23942585,  5.29164604,  5.3443867 ,\n",
       "          5.39765301,  5.45145022,  5.50578361,  5.56065853,  5.61608037,\n",
       "          5.6720546 ,  5.7285867 ,  5.78568225,  5.84334686,  5.9015862 ,\n",
       "          5.96040599,  6.01981203,  6.07981016,  6.14040627,  6.20160634,\n",
       "          6.26341637,  6.32584244,  6.38889071,  6.45256736,  6.51687866,\n",
       "          6.58183094,  6.64743058,  6.71368404,  6.78059784,  6.84817855,\n",
       "          6.91643282,  6.98536737,  7.05498897,  7.12530447,  7.1963208 ,\n",
       "          7.26804492,  7.34048391,  7.41364488,  7.48753503,  7.56216162,\n",
       "          7.637532  ,  7.71365358,  7.79053385,  7.86818037,  7.94660077,\n",
       "          8.02580277,  8.10579416,  8.18658281,  8.26817666,  8.35058373,\n",
       "          8.43381214,  8.51787007,  8.60276579,  8.68850764,  8.77510406,\n",
       "          8.86256357,  8.95089477,  9.04010634,  9.13020707,  9.22120581,\n",
       "          9.31311152,  9.40593323,  9.49968007,  9.59436127,  9.68998613,\n",
       "          9.78656406,  9.88410457,  9.98261724, 10.08211176, 10.18259793,\n",
       "         10.28408562, 10.38658481, 10.49010559, 10.59465813, 10.70025273,\n",
       "         10.80689977, 10.91460973, 11.02339322, 11.13326093, 11.24422366,\n",
       "         11.35629233, 11.46947797, 11.58379171, 11.69924478, 11.81584855,\n",
       "         11.93361448, 12.05255416, 12.17267928, 12.29400167, 12.41653325,\n",
       "         12.54028607, 12.66527231, 12.79150426, 12.91899434, 13.04775508,\n",
       "         13.17779915, 13.30913934, 13.44178857, 13.57575988, 13.71106646,\n",
       "         13.84772161, 13.98573877, 14.12513151, 14.26591355, 14.40809874,\n",
       "         14.55170105, 14.69673462, 14.8432137 , 14.99115271, 15.14056619,\n",
       "         15.29146884, 15.44387551, 15.59780118, 15.75326099, 15.91027023,\n",
       "         16.06884436, 16.22899895, 16.39074977, 16.55411273, 16.71910388,\n",
       "         16.88573947, 17.05403588, 17.22400966, 17.39567753, 17.56905637,\n",
       "         17.74416325, 17.92101537, 18.09963014, 18.28002513, 18.46221807,\n",
       "         18.64622689, 18.83206968, 19.01976473, 19.20933049, 19.40078561,\n",
       "         19.59414892, 19.78943944]]))"
      ]
     },
     "execution_count": 40,
     "metadata": {},
     "output_type": "execute_result"
    }
   ],
   "source": [
    "t,w = integrador_ode(Euler,f,xa,a,b,k,p)\n",
    "t,w"
   ]
  },
  {
   "cell_type": "code",
   "execution_count": null,
   "metadata": {
    "colab": {
     "base_uri": "https://localhost:8080/",
     "height": 316
    },
    "id": "-JKh6OaMvRzx",
    "outputId": "92872935-fee0-4c51-9fa1-cf13fc588d7c"
   },
   "outputs": [
    {
     "data": {
      "text/plain": [
       "<matplotlib.legend.Legend at 0x7faaa3811150>"
      ]
     },
     "execution_count": 41,
     "metadata": {},
     "output_type": "execute_result"
    },
    {
     "data": {
      "image/png": "[encoded data removed]",
      "text/plain": [
       "<Figure size 432x288 with 1 Axes>"
      ]
     },
     "metadata": {
      "needs_background": "light"
     },
     "output_type": "display_data"
    }
   ],
   "source": [
    "# 3.b)\n",
    "plt.xlabel('$t$')\n",
    "plt.ylabel('$x(t)$')\n",
    "#plt.xlim(-0.1,5.1)\n",
    "#plt.ylim(-0.1,1.1)\n",
    "plt.scatter(t,w[0,:],label=\"numérica\",linestyle='-',c='red')\n",
    "plt.plot(t,np.exp(p[0]*t),label=\"exacta\",linestyle='-',c='blue') #exacta\n",
    "plt.title('Crecimiento exponencial, Euler, $h=0.1$')\n",
    "plt.legend()"
   ]
  },
  {
   "cell_type": "markdown",
   "metadata": {
    "id": "TGYPvZmyzp7w"
   },
   "source": [
    "## **Ejercicio 4)** Decaimiento exponencial\n",
    "\n",
    "Considere la ODE\n",
    "\n",
    "\\begin{eqnarray}\n",
    "x'(t)\n",
    "&=&\n",
    "-qx(t)+r\n",
    "\\end{eqnarray}\n",
    "\n",
    "donde $q$ es una constante positiva y $r$ es una constante arbitraria.\n",
    "\n",
    "**a)** Use el integrador ODE con el método de Euler para encontrar una aproximación numérica de la ODE arriba especificada.\n",
    "Considere la condición inicial $x(0)=3$ e integre hasta $t=3$.\n",
    "Utilice el paso de integración $h=0.1$ y los valores de los parámetros $q=2$ y $r=3$.\n",
    "\n",
    "**b)** Grafique la trayectoria computada en el inciso anterior y, con el fin de comparar, grafique simultaneamente la correspondiente solución analítica derivada a continuación\n",
    "\n",
    "\\begin{eqnarray}\n",
    "\\frac{dx}{dt}\n",
    "&=&\n",
    "-qx+r\n",
    "\\\\\n",
    "-\\frac{1}{q}\\frac{du}{dt}\n",
    "&=&\n",
    "u,\n",
    "\\;\\;\\;\\;\n",
    "\\;\\;\\;\\;\n",
    "\\;\\;\\;\\;\n",
    "u=-qx+r\n",
    "\\\\\n",
    "\\frac{du}{dt}\n",
    "&=&\n",
    "-qu\n",
    "\\\\\n",
    "u(t)\n",
    "&=&\n",
    "u(0)e^{-qt}\n",
    "\\\\\n",
    "-qx(t)+r\n",
    "&=&\n",
    "(-qx(0)+r)e^{-qt}\n",
    "\\\\\n",
    "x(t)\n",
    "&=&\n",
    "(x(0)-r/q)e^{-qt}+r/q\n",
    "\\end{eqnarray}\n",
    "\n",
    "**c)** Repita para $h=0.01$.\n",
    "\n",
    "**d)** Repita para $x(0)=1$."
   ]
  },
  {
   "cell_type": "code",
   "execution_count": null,
   "metadata": {
    "id": "ClAorzd-yY4x"
   },
   "outputs": [],
   "source": [
    "#a) Use el integrador ODE con el método de Euler para encontrar una aproximación numérica de la ODE arriba especificada. Considere la condición inicial x(0)=3 e integre hasta t=3. Utilice el paso de integración h=0.1 y los valores de los parámetros q=2 y r=3.\n",
    "def f(x,t,p): #x′(t)=−qx(t)+r---> f es lo que esta a la derecha del problema\n",
    "    \"\"\"   \n",
    "    q = p[0]\n",
    "    r= p[1]\n",
    "    \"\"\"\n",
    "    return -p[0]*np.array(x[0]) + p[1]"
   ]
  },
  {
   "cell_type": "code",
   "execution_count": null,
   "metadata": {
    "id": "eASxIuAAyY19"
   },
   "outputs": [],
   "source": [
    "#los valores de los parámetros q=2 y r=3.\n",
    "a=0\n",
    "b=3\n",
    "h=0.1\n",
    "k = int((b-a)/h)\n",
    "xa = np.array([3])\n",
    "p = np.array([2, 3])"
   ]
  },
  {
   "cell_type": "code",
   "execution_count": null,
   "metadata": {
    "colab": {
     "base_uri": "https://localhost:8080/"
    },
    "id": "p6Kp-Xz8yYyP",
    "outputId": "dcf47921-d993-4ab6-f5d7-e73ee35dd369"
   },
   "outputs": [
    {
     "data": {
      "text/plain": [
       "(array([0. , 0.1, 0.2, 0.3, 0.4, 0.5, 0.6, 0.7, 0.8, 0.9, 1. , 1.1, 1.2,\n",
       "        1.3, 1.4, 1.5, 1.6, 1.7, 1.8, 1.9, 2. , 2.1, 2.2, 2.3, 2.4, 2.5,\n",
       "        2.6, 2.7, 2.8, 2.9, 3. ]),\n",
       " array([[3.        , 2.7       , 2.46      , 2.268     , 2.1144    ,\n",
       "         1.99152   , 1.893216  , 1.8145728 , 1.75165824, 1.70132659,\n",
       "         1.66106127, 1.62884902, 1.60307922, 1.58246337, 1.5659707 ,\n",
       "         1.55277656, 1.54222125, 1.533777  , 1.5270216 , 1.52161728,\n",
       "         1.51729382, 1.51383506, 1.51106805, 1.50885444, 1.50708355,\n",
       "         1.50566684, 1.50453347, 1.50362678, 1.50290142, 1.50232114,\n",
       "         1.50185691]]))"
      ]
     },
     "execution_count": 44,
     "metadata": {},
     "output_type": "execute_result"
    }
   ],
   "source": [
    "t,w = integrador_ode(Euler,f,xa,a,b,k,p)\n",
    "t,w"
   ]
  },
  {
   "cell_type": "code",
   "execution_count": null,
   "metadata": {
    "colab": {
     "base_uri": "https://localhost:8080/",
     "height": 316
    },
    "id": "VknhSyYcyYu2",
    "outputId": "500a334a-f71b-4e34-b02f-794f78148ae3"
   },
   "outputs": [
    {
     "data": {
      "text/plain": [
       "<matplotlib.legend.Legend at 0x7faaa38971d0>"
      ]
     },
     "execution_count": 45,
     "metadata": {},
     "output_type": "execute_result"
    },
    {
     "data": {
      "image/png": "[encoded data removed]",
      "text/plain": [
       "<Figure size 432x288 with 1 Axes>"
      ]
     },
     "metadata": {
      "needs_background": "light"
     },
     "output_type": "display_data"
    }
   ],
   "source": [
    "# 4.b)\n",
    "plt.xlabel('$t$')\n",
    "plt.ylabel('$x(t)$')\n",
    "#plt.xlim(-0.1,5.1)\n",
    "plt.ylim(1.48,1.53)\n",
    "plt.scatter(t,w[0,:],label=\"numérica\",linestyle='-',c='red')\n",
    "plt.plot(t,(xa-p[1]/p[0])*np.exp(-p[0]*t)+p[1]/p[0],label=\"exacta\",linestyle='-',c='blue')\n",
    "plt.title('Decaimiento exponencial, Euler, $h=0.1$')\n",
    "plt.legend()"
   ]
  },
  {
   "cell_type": "code",
   "execution_count": null,
   "metadata": {
    "id": "JK7cCDPoyYrc"
   },
   "outputs": [],
   "source": []
  },
  {
   "cell_type": "code",
   "execution_count": null,
   "metadata": {
    "id": "eJWkW3Q7yzqW"
   },
   "outputs": [],
   "source": []
  },
  {
   "cell_type": "markdown",
   "metadata": {
    "id": "ELWhPITQXyQ8"
   },
   "source": [
    "## **Ejercicio 5)** Ecuación Logística\n",
    "\n",
    "Considere la ODE\n",
    "\n",
    "\\begin{eqnarray}\n",
    "x'(t)\n",
    "&=&\n",
    "rx(t)(1-x/K)\n",
    "\\end{eqnarray}\n",
    "\n",
    "**a)** Integre numéricamente la anterior ODE utilizando el método de Euler, la condición inicial $x(0)=0.1$, hasta $t=5$, utilizando un paso de integración $h=0.1$, una tasa de reproducción $r=1$ y una capacidad de carga $K=1$.\n",
    "\n",
    "**b)** Grafique la solución computada en el inciso anterior, comparandola con la solución analítica que se deriva a continuación\n",
    "\n",
    "\\begin{eqnarray}\n",
    "\\frac{dx}{dt}\n",
    "&=&\n",
    "rx(1-x/K)\n",
    "\\\\\n",
    "\\frac{dx}{x(1-x/K)}\n",
    "&=&\n",
    "rdt\n",
    "\\\\\n",
    "\\int_{x(0)}^{x(t)}\\frac{dx}{x(1-x/K)}\n",
    "&=&\n",
    "rt\n",
    "\\\\\n",
    "\\int_{x(0)}^{x(t)}dx\\,\\frac{1}{x}+\\frac{1}{K-x}\n",
    "&=&\n",
    "rt\n",
    "\\\\\n",
    "\\ln(x(t))-\\ln(x(0))\n",
    "-\n",
    "\\ln(K-x(t))\n",
    "+\n",
    "\\ln(K-x(0))\n",
    "&=&\n",
    "rt\n",
    "\\\\\n",
    "\\ln\\frac{x(t)}{K-x(t)}\n",
    "&=&\n",
    "rt\n",
    "+\n",
    "\\ln\\frac{x(0)}{K-x(0)}\n",
    "\\\\\n",
    "\\frac{x(t)}{K-x(t)}\n",
    "&=&\n",
    "f(t)\n",
    "=\n",
    "\\frac{x(0)}{K-x(0)}e^{rt}\n",
    "\\\\\n",
    "x(t)\n",
    "&=&\n",
    "(K-x(t))f(t)\n",
    "\\\\\n",
    "x(t)(1+f(t))\n",
    "&=&\n",
    "Kf(t)\n",
    "\\\\\n",
    "x(t)\n",
    "&=&\n",
    "K\\frac{f(t)}{1+f(t)}\n",
    "=\n",
    "K\\frac{1}{1+\\frac{1}{f(t)}}\n",
    "\\\\\n",
    "x(t)\n",
    "&=&\n",
    "K\\left(1+\\frac{K-x(0)}{x(0)}e^{-rt}\\right)^{-1}\n",
    "\\end{eqnarray}\n",
    "\n",
    "**c)** Repita para $x(0)=1.5$."
   ]
  },
  {
   "cell_type": "code",
   "execution_count": null,
   "metadata": {
    "id": "Ll9DEZWYy34c"
   },
   "outputs": [],
   "source": []
  },
  {
   "cell_type": "markdown",
   "metadata": {
    "id": "avaxswLISMWi"
   },
   "source": [
    "## **Ejercicio 6)** Oscilador armónico\n",
    "\n",
    "### Redución del orden de una ODE\n",
    "\n",
    "En general, una ODE tiene la siguiente forma\n",
    "\n",
    "\\begin{eqnarray}\n",
    "y^{(n)}(t) \n",
    "&=&\n",
    "f(y(t),y'(t),y''(t),...,y^{(n-1)}(t),t)\n",
    "\\;\\;\\;\\; (1)\n",
    "\\end{eqnarray}\n",
    "\n",
    "donde $y^{(i)}$ denota la $i$-ésima derivada de $y$ respecto a $t$.\n",
    "Dicha ODE es de dimensión $d$ si $x:\\mathbb{R}\\ni t\\to y(t)\\in \\mathbb{R}^d$.\n",
    "Además, se dice que es de orden $n$ porque involucra derivadas de $x$ de hasta orden $n$.\n",
    "\n",
    "Una ODE de orden $n$ y dimensión $d$ como la de la ecuación $(1)$ siempre puede reducirse a una ODE de primero orden y dimensión $nd$ utilizando la siguiente transformación\n",
    "\n",
    "\\begin{eqnarray}\n",
    "x_1:t\\to x_1(t) &:=& y(t) \\\\\n",
    "x_2:t\\to x_2(t) &:=& y'(t) \\\\\n",
    "x_3:t\\to x_3(t) &:=& y''(t) \\\\\n",
    "&...& \\\\\n",
    "x_n:t\\to x_n(t) &:=& y^{(n-1)}(t) \\\\\n",
    "x_n':t\\to x_n'(t) &=& y^{(n)}(t)\n",
    "\\end{eqnarray}\n",
    "\n",
    "de manera que la ecuación $(1)$ adopte la forma\n",
    "\n",
    "\\begin{eqnarray}\n",
    "x_{1}'(t) &=& x_2(t) \\\\\n",
    "x_{2}'(t) &=& x_3(t) \\\\\n",
    "&...& \\\\\n",
    "x_{n-1}'(t) &=& x_n(t) \\\\\n",
    "x_n'(t) &=& f(x_1(t),x_2(t),x_3(t),...,x_{n}(t),t)\n",
    "\\end{eqnarray}\n",
    "\n",
    "### El oscilador armónico\n",
    "\n",
    "El oscilador armónico viene descripto por la siguiente ecuación diferencial ordinaria (ODE)\n",
    "\n",
    "\\begin{eqnarray}\n",
    "y''(t) &=& -ay(t)\n",
    "\\end{eqnarray}\n",
    "\n",
    "Esta es una ODE de segundo orden, ya que aparece la derivada segunda de la función $x:t\\to x(t)$.\n",
    "La convertimos a una de primer orden definiendo $x_1=y$ y $x_2=y'$, obteniéndose\n",
    "\n",
    "\\begin{eqnarray}\n",
    "x_1'(t) &=& x_2(t) \\\\\n",
    "x_2'(t) &=& -\\alpha x_1(t)\n",
    "\\end{eqnarray}\n",
    "\n",
    "**a)** Utilice lo implementado en el ejecicio 2) para resolver en el intervalo de tiempo $[a,b]=[0,10]$ la ODE del oscilador armónico sujeto a las siguientes condiciones iniciales\n",
    "\n",
    "\\begin{eqnarray}\n",
    "x_1(a) &=& y(a) = 1 \\\\\n",
    "x_2(a) &=& y'(a) = 0\n",
    "\\end{eqnarray}\n",
    "\n",
    "para $\\alpha=3$ y usando un paso de integración $h=0.1$.\n",
    "\n",
    "**b)** Grafique $x_1(t)$ vs $t$ y $x_2(t)$ vs $t$. No olvide agregar leyendas a los ejes y las curvas.\n",
    "Use `np.scatter()` en vez de `np.plot()` para graficar usando puntos en vez de curvas.\n",
    "\n",
    "**c)** Grafique $x_2(t)$ vs $x_1(t)$ paramétricamente en función de $t$."
   ]
  },
  {
   "cell_type": "code",
   "execution_count": null,
   "metadata": {
    "id": "xAm0yWz3y62T"
   },
   "outputs": [],
   "source": []
  },
  {
   "cell_type": "markdown",
   "metadata": {
    "id": "M1ijOC6_ILf-"
   },
   "source": [
    "## **Ejercicio 7)** Integrador de **RK4**\n",
    "\n",
    "El método de Runge-Kutta de orden 4 utiliza la teoría de diferencias finitas para calcular la siguiente aproximación de orden 4ta de un paso de integración\n",
    "\n",
    "A saber\n",
    "\\begin{eqnarray}\n",
    "x(t+h)\n",
    "&=&\n",
    "x(t) \n",
    "+ \n",
    "\\frac{h}{6}\n",
    "(k_1+2k_2+2k_3+k_4)\n",
    "+\n",
    "\\mathcal{O}(h^5)\n",
    "\\end{eqnarray}\n",
    "\n",
    "donde\n",
    "\n",
    "\\begin{eqnarray}\n",
    "k_1 &=& f(x,t) \\\\\n",
    "k_2 &=& f(x+hk_1/2,t+h/2) \\\\\n",
    "k_3 &=& f(x+hk_2/2,t+h/2) \\\\\n",
    "k_4 &=& f(x+hk_3,t+h)\n",
    "\\end{eqnarray}\n",
    "\n",
    "**a)** Implemente el método de RK4.\n",
    "\n",
    "**b)** Repita el ejercicio **6)** pero usando **RK4** en vez de **Euler**.\n",
    "\n",
    "**c)** Nota alguna diferencia al comparar la solución obtenida con Euler y la solución obtenida con RK4?"
   ]
  },
  {
   "cell_type": "code",
   "execution_count": null,
   "metadata": {
    "id": "rtamDkDZy-lC"
   },
   "outputs": [],
   "source": [
    "#1er paso metodo Runge-Kutta 4\"\n",
    "def RK4(f,t0,y0,h,p):\n",
    "    k1 = f(t0, y0, p)\n",
    "    k2 = f(t0+h/2, y0+h/2*k1, p)\n",
    "    k3 = f(t0+h/2, y0+h/2*k2, p)\n",
    "    k4 = f(t0+h, y0+h*k3, p)\n",
    "    return y0 + (h/6)*(k1 + 2*k2 + 2*k3 + k4)      ### y0 + h/6(k1 + 2*k2 + 2*k3 + k4) No anda"
   ]
  },
  {
   "cell_type": "code",
   "execution_count": null,
   "metadata": {
    "id": "ashZY4LglBul"
   },
   "outputs": [],
   "source": [
    "def iteracion_ODE_multidimencional(Metodo,f,y0,a,b,N,p):\n",
    "    t = np.zeros(N+1)\n",
    "    w = np.zeros((len(y0),N+1))\n",
    "    h = (b-a)/(N)\n",
    "    t[0] = a\n",
    "    w[:,0] = y0\n",
    "    for i in range(1,N+1):\n",
    "        t[i] = t[i-1]+h\n",
    "        w[:,i] = Metodo(f,t[i-1],w[:,i-1],h,p)\n",
    "    return t[:],w[:,:]  "
   ]
  },
  {
   "cell_type": "code",
   "execution_count": null,
   "metadata": {
    "colab": {
     "base_uri": "https://localhost:8080/"
    },
    "id": "Zli6i8cGlBfL",
    "outputId": "bdfdd525-9543-4474-b38d-43f5822e2c2f"
   },
   "outputs": [
    {
     "data": {
      "text/plain": [
       "100"
      ]
     },
     "execution_count": 48,
     "metadata": {},
     "output_type": "execute_result"
    }
   ],
   "source": [
    "# b) Repita el ejercicio 6) pero usando RK4 en vez de Euler.\n",
    "def f(t,x,p):\n",
    "  return np.array([x[1],-p[0]*x[0]])           ### x'1(t) = x2(t)\n",
    "a = 0                                          ### x'2(t) = -p[0]*x1(t)\n",
    "b = 10\n",
    "x0 = [1.,0]\n",
    "h = 0.1          ### h=0,1\n",
    "N = int((b-a)/h)\n",
    "alfa = 3.\n",
    "p = np.array([alfa])\n",
    "N"
   ]
  },
  {
   "cell_type": "code",
   "execution_count": null,
   "metadata": {
    "id": "qmuP1paU2ZKO"
   },
   "outputs": [],
   "source": [
    "t,x = iteracion_ODE_multidimencional(RK4,f,x0,a,b,N,p)"
   ]
  },
  {
   "cell_type": "code",
   "execution_count": null,
   "metadata": {
    "colab": {
     "base_uri": "https://localhost:8080/",
     "height": 314
    },
    "id": "QL_1QD582ZHb",
    "outputId": "8b3d0f23-3d1f-430c-cc0e-de57ac2c4559"
   },
   "outputs": [
    {
     "data": {
      "text/plain": [
       "<matplotlib.legend.Legend at 0x7faaa3718990>"
      ]
     },
     "execution_count": 50,
     "metadata": {},
     "output_type": "execute_result"
    },
    {
     "data": {
      "image/png": "[encoded data removed]",
      "text/plain": [
       "<Figure size 432x288 with 1 Axes>"
      ]
     },
     "metadata": {
      "needs_background": "light"
     },
     "output_type": "display_data"
    }
   ],
   "source": [
    "plt.xlabel('$t$')\n",
    "plt.ylabel('$x(t)$')\n",
    "#plt.xlim(-0.1,5.1)\n",
    "#plt.ylim(-0.1,1.1)\n",
    "plt.scatter(t,x[0],label=\"$x_1(t)$\",linestyle='-',c='red')\n",
    "plt.scatter(t,x[1],label=\"$x_2(t)$\",linestyle='-',c='blue')\n",
    "#plt.plot(t,f_exacta(t,x0,p),label=\"exacta\",linestyle='-',c='blue')\n",
    "plt.title('Oscilador armónico, Euler')\n",
    "plt.legend()"
   ]
  },
  {
   "cell_type": "code",
   "execution_count": null,
   "metadata": {
    "colab": {
     "base_uri": "https://localhost:8080/",
     "height": 316
    },
    "id": "_eUjfPti2ZD8",
    "outputId": "110d778d-6e6c-4b4e-afc1-061f302c67e2"
   },
   "outputs": [
    {
     "data": {
      "text/plain": [
       "<matplotlib.legend.Legend at 0x7faaa3aa3590>"
      ]
     },
     "execution_count": 51,
     "metadata": {},
     "output_type": "execute_result"
    },
    {
     "data": {
      "image/png": "[encoded data removed]",
      "text/plain": [
       "<Figure size 432x288 with 1 Axes>"
      ]
     },
     "metadata": {
      "needs_background": "light"
     },
     "output_type": "display_data"
    }
   ],
   "source": [
    "plt.xlabel('$x_1(t)$')\n",
    "plt.ylabel('$x_2(t)$')\n",
    "#plt.xlim(-0.1,5.1)\n",
    "#plt.ylim(-0.1,1.1)\n",
    "plt.scatter(x[0,:],x[1,:],label=\"$x_1(t) vs x_2(x)$\",linestyle='-',c='purple')\n",
    "plt.title('Purple Rain')\n",
    "plt.legend()"
   ]
  },
  {
   "cell_type": "code",
   "execution_count": null,
   "metadata": {
    "id": "Jf-ZZZct2Y_y"
   },
   "outputs": [],
   "source": [
    "# c) \n",
    "# Con Euler se percibe la solucion como un coseno con una amplitud creciente con el tiempo\n",
    "#           se van sumando errores de integracion por cada iteracion\n",
    "# Con RK4 se percibe la solucion como un coseno"
   ]
  },
  {
   "cell_type": "markdown",
   "metadata": {
    "id": "6aJZWisYQUfg"
   },
   "source": [
    "## **Ejercicio 8)** Creando una \"libreria\" de integradores ODE\n",
    "\n",
    "**a)** Exporte el actual notebook `redes-neuronales-2022-practico-4.ipynb` a `ode.py`.\n",
    "\n",
    "**b)** Con su editor de texto favorito, elimine todo lo que sobra de `ode.py`. Deje, solamente, el código que:\n",
    "\n",
    "* importa `numpy`.\n",
    "\n",
    "* define la funcion `euler`.\n",
    "\n",
    "* define la funcion `rk4`.\n",
    "\n",
    "* define la funcion `integrador_ode`.\n",
    "\n",
    "**c)** En google colab, suba el archiv `ode.py` anteriormente credo.\n",
    "\n",
    "**d)** Importe la \"libreria\" `ode` escribiendo\n",
    "\n",
    "    import ode\n",
    "\n",
    "**e)** Pruebe la libreria `ode` escribiendo\n",
    "\n",
    "    t,x = ode.integrador_ode(ode.rk4,f,xa,a,b,k,p)"
   ]
  },
  {
   "cell_type": "code",
   "execution_count": 53,
   "metadata": {
    "colab": {
     "base_uri": "https://localhost:8080/",
     "height": 324
    },
    "id": "TzhICKi3zBFa",
    "outputId": "d3df62a2-6124-4126-9d39-23cbf41a335a"
   },
   "outputs": [
    {
     "ename": "ModuleNotFoundError",
     "errorDetails": {
      "actions": [
       {
        "action": "open_url",
        "actionText": "Open Examples",
        "url": "/notebooks/snippets/importing_libraries.ipynb"
       }
      ]
     },
     "evalue": "ignored",
     "output_type": "error",
     "traceback": [
      "\u001b[0;31m---------------------------------------------------------------------------\u001b[0m",
      "\u001b[0;31mModuleNotFoundError\u001b[0m                       Traceback (most recent call last)",
      "\u001b[0;32m<ipython-input-53-47fdaac2fd69>\u001b[0m in \u001b[0;36m<module>\u001b[0;34m\u001b[0m\n\u001b[1;32m      1\u001b[0m \u001b[0;31m# 8.e)\u001b[0m\u001b[0;34m\u001b[0m\u001b[0;34m\u001b[0m\u001b[0;34m\u001b[0m\u001b[0m\n\u001b[0;32m----> 2\u001b[0;31m \u001b[0;32mimport\u001b[0m \u001b[0mode\u001b[0m\u001b[0;34m\u001b[0m\u001b[0;34m\u001b[0m\u001b[0m\n\u001b[0m",
      "\u001b[0;31mModuleNotFoundError\u001b[0m: No module named 'ode'",
      "",
      "\u001b[0;31m---------------------------------------------------------------------------\u001b[0;32m\nNOTE: If your import is failing due to a missing package, you can\nmanually install dependencies using either !pip or !apt.\n\nTo view examples of installing some common dependencies, click the\n\"Open Examples\" button below.\n\u001b[0;31m---------------------------------------------------------------------------\u001b[0m\n"
     ]
    }
   ],
   "source": [
    "# 8.e)\n",
    "import ode"
   ]
  },
  {
   "cell_type": "code",
   "execution_count": 54,
   "metadata": {
    "colab": {
     "base_uri": "https://localhost:8080/",
     "height": 167
    },
    "id": "xgUB9hIb9Mz0",
    "outputId": "4eeff538-f48b-45bb-9c2f-92983abf0b4f"
   },
   "outputs": [
    {
     "ename": "NameError",
     "evalue": "ignored",
     "output_type": "error",
     "traceback": [
      "\u001b[0;31m---------------------------------------------------------------------------\u001b[0m",
      "\u001b[0;31mNameError\u001b[0m                                 Traceback (most recent call last)",
      "\u001b[0;32m<ipython-input-54-92f3d1d005bb>\u001b[0m in \u001b[0;36m<module>\u001b[0;34m\u001b[0m\n\u001b[0;32m----> 1\u001b[0;31m \u001b[0mt\u001b[0m\u001b[0;34m,\u001b[0m\u001b[0mw\u001b[0m\u001b[0;34m=\u001b[0m \u001b[0mode\u001b[0m\u001b[0;34m.\u001b[0m\u001b[0mintegrador_ode\u001b[0m\u001b[0;34m(\u001b[0m\u001b[0mode\u001b[0m\u001b[0;34m.\u001b[0m\u001b[0mrk4\u001b[0m\u001b[0;34m,\u001b[0m\u001b[0mf\u001b[0m\u001b[0;34m,\u001b[0m\u001b[0mxa\u001b[0m\u001b[0;34m,\u001b[0m\u001b[0ma\u001b[0m\u001b[0;34m,\u001b[0m\u001b[0mb\u001b[0m\u001b[0;34m,\u001b[0m\u001b[0mk\u001b[0m\u001b[0;34m,\u001b[0m\u001b[0mp\u001b[0m\u001b[0;34m)\u001b[0m\u001b[0;34m\u001b[0m\u001b[0;34m\u001b[0m\u001b[0m\n\u001b[0m",
      "\u001b[0;31mNameError\u001b[0m: name 'ode' is not defined"
     ]
    }
   ],
   "source": [
    "t,w= ode.integrador_ode(ode.rk4,f,xa,a,b,k,p)"
   ]
  },
  {
   "cell_type": "code",
   "execution_count": null,
   "metadata": {
    "id": "WeZpCx8d9Mw6"
   },
   "outputs": [],
   "source": []
  },
  {
   "cell_type": "code",
   "execution_count": null,
   "metadata": {
    "id": "cRr_uQYN9MtZ"
   },
   "outputs": [],
   "source": []
  },
  {
   "cell_type": "code",
   "execution_count": null,
   "metadata": {
    "id": "V9Z-BqGR9IkU"
   },
   "outputs": [],
   "source": []
  }
 ],
 "metadata": {
  "colab": {
   "collapsed_sections": [],
   "provenance": []
  },
  "kernelspec": {
   "display_name": "Python 3 (ipykernel)",
   "language": "python",
   "name": "python3"
  },
  "language_info": {
   "codemirror_mode": {
    "name": "ipython",
    "version": 3
   },
   "file_extension": ".py",
   "mimetype": "text/x-python",
   "name": "python",
   "nbconvert_exporter": "python",
   "pygments_lexer": "ipython3",
   "version": "3.9.12"
  }
 },
 "nbformat": 4,
 "nbformat_minor": 1
}
